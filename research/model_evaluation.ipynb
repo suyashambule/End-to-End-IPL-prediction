{
 "cells": [
  {
   "cell_type": "code",
   "execution_count": null,
   "id": "2dde5e92",
   "metadata": {},
   "outputs": [],
   "source": []
  },
  {
   "cell_type": "code",
   "execution_count": 2,
   "id": "cb03c100",
   "metadata": {},
   "outputs": [
    {
     "data": {
      "text/plain": [
       "2"
      ]
     },
     "execution_count": 2,
     "metadata": {},
     "output_type": "execute_result"
    }
   ],
   "source": [
    "1+1"
   ]
  },
  {
   "cell_type": "code",
   "execution_count": 3,
   "id": "d6cbaf19",
   "metadata": {},
   "outputs": [
    {
     "data": {
      "text/plain": [
       "'/Users/suyash/Desktop/End to End/research'"
      ]
     },
     "execution_count": 3,
     "metadata": {},
     "output_type": "execute_result"
    }
   ],
   "source": [
    "%pwd"
   ]
  },
  {
   "cell_type": "code",
   "execution_count": 4,
   "id": "2b96ec31",
   "metadata": {},
   "outputs": [
    {
     "data": {
      "text/plain": [
       "'/Users/suyash/Desktop/End to End'"
      ]
     },
     "execution_count": 4,
     "metadata": {},
     "output_type": "execute_result"
    }
   ],
   "source": [
    "os.chdir('../')\n",
    "%pwd"
   ]
  },
  {
   "cell_type": "code",
   "execution_count": 5,
   "id": "f04661bc",
   "metadata": {},
   "outputs": [],
   "source": [
    "from dataclasses import dataclass\n",
    "from pathlib import Path\n",
    "\n",
    "@dataclass\n",
    "class ModelEvaluationConfig:\n",
    "    root_dir: Path\n",
    "    test_data_path: Path\n",
    "    model_path: Path\n",
    "    metric_file_path: Path\n",
    "    target_column: str\n",
    "    all_params: dict\n",
    "    mlflow_uri: str"
   ]
  },
  {
   "cell_type": "code",
   "execution_count": 6,
   "id": "dbc756b6",
   "metadata": {},
   "outputs": [],
   "source": [
    "from src.IPL_Predictor.constants import *\n",
    "from src.IPL_Predictor.utils.common import read_yaml, create_directories\n",
    "import joblib\n",
    "import pandas as pd\n",
    "\n",
    "class ConfigurationManager:\n",
    "    def __init__(\n",
    "        self,\n",
    "        config_filepath = CONFIG_FILE_PATH,\n",
    "        params_filepath = PARAMS_FILE_PATH,\n",
    "        schema_filepath = SCHEMA_FILE_PATH\n",
    "        ):\n",
    "        self.config = read_yaml(config_filepath)\n",
    "        self.params = read_yaml(params_filepath)\n",
    "        self.schema = read_yaml(schema_filepath)\n",
    "\n",
    "        create_directories([self.config.artifacts_root])\n",
    "\n",
    "    def get_model_evaluation_config(self) -> ModelEvaluationConfig:\n",
    "        config = self.config.model_evaluation\n",
    "        create_directories([config.root_dir])\n",
    "\n",
    "        evaluation_config = ModelEvaluationConfig(\n",
    "            root_dir=Path(config.root_dir),\n",
    "            test_data_path=Path(config.test_data_path),\n",
    "            model_path=Path(config.model_path),\n",
    "            metric_file_path=Path(config.metric_file_path),\n",
    "            target_column=self.schema.TARGET_COLUMN,\n",
    "            all_params=self.params.RandomForest,\n",
    "            mlflow_uri=\"https://dagshub.com/suyashambule1234/End-to-End-IPL-prediction.mlflow\"\n",
    "        )\n",
    "\n",
    "        return evaluation_config"
   ]
  },
  {
   "cell_type": "code",
   "execution_count": 9,
   "id": "7f78d92e",
   "metadata": {},
   "outputs": [],
   "source": [
    "import mlflow\n",
    "import mlflow.sklearn\n",
    "from sklearn.metrics import accuracy_score, precision_score, recall_score, f1_score\n",
    "from urllib.parse import urlparse\n",
    "import json\n",
    "\n",
    "class ModelEvaluation:\n",
    "    def __init__(self, config: ModelEvaluationConfig):\n",
    "        self.config = config\n",
    "\n",
    "    def evaluate_model(self):\n",
    "        try:\n",
    "            # Load test data and model\n",
    "            test_data = pd.read_csv(self.config.test_data_path)\n",
    "            model = joblib.load(self.config.model_path)\n",
    "\n",
    "            # Prepare test data\n",
    "            X_test = test_data.drop(self.config.target_column, axis=1)\n",
    "            y_test = test_data[self.config.target_column]\n",
    "\n",
    "            # Make predictions and calculate metrics\n",
    "            predicted_qualities = model.predict(X_test)\n",
    "            \n",
    "            # Calculate metrics\n",
    "            scores = {\n",
    "                \"accuracy\": accuracy_score(y_test, predicted_qualities),\n",
    "                \"precision\": precision_score(y_test, predicted_qualities, average='weighted'),\n",
    "                \"recall\": recall_score(y_test, predicted_qualities, average='weighted'),\n",
    "                \"f1_score\": f1_score(y_test, predicted_qualities, average='weighted')\n",
    "            }\n",
    "\n",
    "            # Save metrics locally first\n",
    "            os.makedirs(os.path.dirname(self.config.metric_file_path), exist_ok=True)\n",
    "            with open(self.config.metric_file_path, \"w\") as f:\n",
    "                json.dump(scores, f, indent=4)\n",
    "            \n",
    "            # Try MLflow logging if configured\n",
    "            try:\n",
    "                mlflow.set_registry_uri(self.config.mlflow_uri)\n",
    "                with mlflow.start_run():\n",
    "                    # Log parameters\n",
    "                    mlflow.log_params(self.config.all_params)\n",
    "                    \n",
    "                    # Log metrics\n",
    "                    for metric_name, metric_value in scores.items():\n",
    "                        mlflow.log_metric(metric_name, metric_value)\n",
    "                    \n",
    "                    # Log model\n",
    "                    mlflow.sklearn.log_model(\n",
    "                        model, \n",
    "                        \"model\", \n",
    "                        registered_model_name=\"RandomForestModel\"\n",
    "                    )\n",
    "            except Exception as mlflow_error:\n",
    "                print(f\"Warning: MLflow logging failed: {str(mlflow_error)}\")\n",
    "                print(\"Continuing with local metric storage only\")\n",
    "\n",
    "            return scores\n",
    "\n",
    "        except Exception as e:\n",
    "            logger.error(f\"Error in model evaluation: {str(e)}\")\n",
    "            raise e"
   ]
  },
  {
   "cell_type": "code",
   "execution_count": 10,
   "id": "946cd4aa",
   "metadata": {},
   "outputs": [
    {
     "name": "stdout",
     "output_type": "stream",
     "text": [
      "[2025-09-24 13:11:33,463: INFO: common: yaml file: config/config.yaml loaded successfully]\n",
      "[2025-09-24 13:11:33,465: INFO: common: yaml file: params.yaml loaded successfully]\n",
      "[2025-09-24 13:11:33,467: INFO: common: yaml file: schema.yaml loaded successfully]\n",
      "[2025-09-24 13:11:33,468: INFO: common: created directory at : artifacts]\n",
      "[2025-09-24 13:11:33,468: INFO: common: created directory at : artifacts/model_evaluation]\n"
     ]
    },
    {
     "name": "stderr",
     "output_type": "stream",
     "text": [
      "2025/09/24 13:11:39 WARNING mlflow.models.model: `artifact_path` is deprecated. Please use `name` instead.\n"
     ]
    },
    {
     "name": "stdout",
     "output_type": "stream",
     "text": [
      "🏃 View run monumental-foal-732 at: https://dagshub.com/suyashambule1234/End-to-End-IPL-prediction.mlflow/#/experiments/0/runs/8705b78a6eb549cf97b2cd19eb57d55a\n",
      "🧪 View experiment at: https://dagshub.com/suyashambule1234/End-to-End-IPL-prediction.mlflow/#/experiments/0\n",
      "Warning: MLflow logging failed: INTERNAL_ERROR: Response: {'error': 'unsupported endpoint, please contact support@dagshub.com'}\n",
      "Continuing with local metric storage only\n",
      "\n",
      "Model Evaluation Scores:\n",
      "accuracy: 0.7201\n",
      "precision: 0.7202\n",
      "recall: 0.7201\n",
      "f1_score: 0.7198\n"
     ]
    }
   ],
   "source": [
    "try:\n",
    "    config = ConfigurationManager()\n",
    "    model_evaluation_config = config.get_model_evaluation_config()\n",
    "    model_evaluation = ModelEvaluation(config=model_evaluation_config)\n",
    "    \n",
    "    scores = model_evaluation.evaluate_model()\n",
    "    \n",
    "    # Print results\n",
    "    print(\"\\nModel Evaluation Scores:\")\n",
    "    for metric, value in scores.items():\n",
    "        print(f\"{metric}: {value:.4f}\")\n",
    "        \n",
    "except Exception as e:\n",
    "    print(f\"Error during model evaluation: {str(e)}\")\n",
    "    raise e"
   ]
  },
  {
   "cell_type": "code",
   "execution_count": null,
   "id": "196fa807",
   "metadata": {},
   "outputs": [],
   "source": []
  }
 ],
 "metadata": {
  "kernelspec": {
   "display_name": "Python 3",
   "language": "python",
   "name": "python3"
  },
  "language_info": {
   "codemirror_mode": {
    "name": "ipython",
    "version": 3
   },
   "file_extension": ".py",
   "mimetype": "text/x-python",
   "name": "python",
   "nbconvert_exporter": "python",
   "pygments_lexer": "ipython3",
   "version": "3.12.0"
  }
 },
 "nbformat": 4,
 "nbformat_minor": 5
}
