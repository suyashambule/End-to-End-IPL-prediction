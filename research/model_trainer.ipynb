{
 "cells": [
  {
   "cell_type": "code",
   "execution_count": 1,
   "id": "c4269141",
   "metadata": {},
   "outputs": [
    {
     "data": {
      "text/plain": [
       "2"
      ]
     },
     "execution_count": 1,
     "metadata": {},
     "output_type": "execute_result"
    }
   ],
   "source": [
    "1+1"
   ]
  },
  {
   "cell_type": "code",
   "execution_count": 2,
   "id": "fd25ac16",
   "metadata": {},
   "outputs": [
    {
     "data": {
      "text/plain": [
       "'/Users/suyash/Desktop/End to End/research'"
      ]
     },
     "execution_count": 2,
     "metadata": {},
     "output_type": "execute_result"
    }
   ],
   "source": [
    "%pwd"
   ]
  },
  {
   "cell_type": "code",
   "execution_count": 3,
   "id": "2fb44b72",
   "metadata": {},
   "outputs": [
    {
     "data": {
      "text/plain": [
       "'/Users/suyash/Desktop/End to End'"
      ]
     },
     "execution_count": 3,
     "metadata": {},
     "output_type": "execute_result"
    }
   ],
   "source": [
    "import os\n",
    "os.chdir(\"../\")\n",
    "%pwd"
   ]
  },
  {
   "cell_type": "code",
   "execution_count": 4,
   "id": "3e7bc83a",
   "metadata": {},
   "outputs": [],
   "source": [
    "from dataclasses import dataclass\n",
    "from pathlib import Path\n",
    "\n",
    "@dataclass\n",
    "class ModelTrainerConfig:\n",
    "    root_dir: Path\n",
    "    train_data_path: Path\n",
    "    test_data_path: Path\n",
    "    model_name: str\n",
    "    n_estimators: int\n",
    "    max_depth: int\n",
    "    random_state: int\n",
    "    n_jobs: int\n",
    "    target_column: str "
   ]
  },
  {
   "cell_type": "code",
   "execution_count": 5,
   "id": "51eb0b61",
   "metadata": {},
   "outputs": [],
   "source": [
    "from src.IPL_Predictor.constants import *\n",
    "from src.IPL_Predictor.utils.common import read_yaml, create_directories\n",
    "from src.IPL_Predictor.utils.common import read_yaml, create_directories"
   ]
  },
  {
   "cell_type": "code",
   "execution_count": 6,
   "id": "7c3e1c34",
   "metadata": {},
   "outputs": [],
   "source": [
    "class ConfigurationManager:\n",
    "    def __init__(\n",
    "        self,\n",
    "        config_filepath = CONFIG_FILE_PATH,\n",
    "        params_filepath = PARAMS_FILE_PATH,\n",
    "        schema_filepath = SCHEMA_FILE_PATH):\n",
    "\n",
    "        self.config = read_yaml(config_filepath)\n",
    "        self.params = read_yaml(params_filepath)\n",
    "        self.schema = read_yaml(schema_filepath)\n",
    "\n",
    "        create_directories([self.config.artifacts_root])\n",
    "\n",
    "\n",
    "    def get_model_trainer_config(self) -> ModelTrainerConfig:\n",
    "        config = self.config.model_trainer\n",
    "        create_directories([config.root_dir])\n",
    "\n",
    "        model_trainer_config = ModelTrainerConfig(\n",
    "            root_dir=Path(config.root_dir),\n",
    "            train_data_path=Path(config.train_data_path),\n",
    "            test_data_path=Path(config.test_data_path),\n",
    "            model_name=config.model_name,\n",
    "            n_estimators=self.params.RandomForest.n_estimators,\n",
    "            max_depth=self.params.RandomForest.max_depth,\n",
    "            random_state=self.params.RandomForest.random_state,\n",
    "            n_jobs=self.params.RandomForest.n_jobs,\n",
    "            target_column=self.schema.TARGET_COLUMN,\n",
    "        )\n",
    "\n",
    "        return model_trainer_config"
   ]
  },
  {
   "cell_type": "code",
   "execution_count": 7,
   "id": "da716783",
   "metadata": {},
   "outputs": [],
   "source": [
    "from sklearn.ensemble import RandomForestClassifier\n",
    "import joblib\n",
    "import pandas as pd\n",
    "from src.IPL_Predictor import logger\n",
    "\n",
    "class ModelTrainer:\n",
    "    def __init__(self, config: ModelTrainerConfig):\n",
    "        self.config = config\n",
    "        \n",
    "    def train(self):\n",
    "        # Load data with debug logging\n",
    "        train_data = pd.read_csv(self.config.train_data_path)\n",
    "        test_data = pd.read_csv(self.config.test_data_path)\n",
    "        \n",
    "        # Log available columns\n",
    "        logger.info(f\"Available columns in training data: {train_data.columns.tolist()}\")\n",
    "        logger.info(f\"Target column from config: {self.config.target_column}\")\n",
    "        \n",
    "        # Check if we need to rename any columns or handle missing target\n",
    "        if self.config.target_column not in train_data.columns:\n",
    "            # Assuming the target column might be named differently\n",
    "            available_columns = train_data.columns.tolist()\n",
    "            logger.info(f\"Target column '{self.config.target_column}' not found.\")\n",
    "            logger.info(f\"Available columns: {available_columns}\")\n",
    "            raise ValueError(f\"Target column '{self.config.target_column}' not found in training data. Available columns: {available_columns}\")\n",
    "\n",
    "        # Continue with model training if target exists\n",
    "        X_train = train_data.drop(self.config.target_column, axis=1)\n",
    "        y_train = train_data[self.config.target_column]\n",
    "        X_test = test_data.drop(self.config.target_column, axis=1)\n",
    "        y_test = test_data[self.config.target_column]\n",
    "\n",
    "        rf = RandomForestClassifier(\n",
    "            n_estimators=self.config.n_estimators,\n",
    "            max_depth=self.config.max_depth,\n",
    "            random_state=self.config.random_state,\n",
    "            n_jobs=self.config.n_jobs\n",
    "        )\n",
    "\n",
    "        rf.fit(X_train, y_train)\n",
    "        \n",
    "        # Create directory if it doesn't exist\n",
    "        os.makedirs(self.config.root_dir, exist_ok=True)\n",
    "        joblib.dump(rf, os.path.join(self.config.root_dir, self.config.model_name))\n",
    "        \n",
    "        return rf"
   ]
  },
  {
   "cell_type": "code",
   "execution_count": 8,
   "id": "60e1087e",
   "metadata": {},
   "outputs": [
    {
     "name": "stdout",
     "output_type": "stream",
     "text": [
      "[2025-09-24 12:56:23,918: INFO: common: yaml file: config/config.yaml loaded successfully]\n",
      "[2025-09-24 12:56:23,920: INFO: common: yaml file: params.yaml loaded successfully]\n",
      "[2025-09-24 12:56:23,921: INFO: common: yaml file: schema.yaml loaded successfully]\n",
      "[2025-09-24 12:56:23,921: INFO: common: created directory at : artifacts]\n",
      "[2025-09-24 12:56:23,921: INFO: common: created directory at : artifacts/model_trainer]\n",
      "[2025-09-24 12:56:24,415: INFO: 3552706665: Available columns in training data: ['target_runs', 'current_score', 'wickets', 'crr', 'rrr', 'batter_total_runs', 'batter_strikerate', 'non_striker_runs', 'non_striker_strikerate', 'city_Ahmedabad', 'city_Bangalore', 'city_Bengaluru', 'city_Bloemfontein', 'city_Cape Town', 'city_Centurion', 'city_Chandigarh', 'city_Chennai', 'city_Cuttack', 'city_Delhi', 'city_Dharamsala', 'city_Dubai', 'city_Durban', 'city_East London', 'city_Guwahati', 'city_Hyderabad', 'city_Indore', 'city_Jaipur', 'city_Johannesburg', 'city_Kanpur', 'city_Kimberley', 'city_Kolkata', 'city_Lucknow', 'city_Mohali', 'city_Mumbai', 'city_Nagpur', 'city_Navi Mumbai', 'city_Port Elizabeth', 'city_Pune', 'city_Raipur', 'city_Rajkot', 'city_Ranchi', 'city_Sharjah', 'city_Visakhapatnam', 'match_type_Elimination Final', 'match_type_Eliminator', 'match_type_Final', 'match_type_League', 'match_type_Qualifier 1', 'match_type_Qualifier 2', 'match_type_Semi Final', 'batting_team_Delhi Capitals', 'batting_team_Gujarat Titans', 'batting_team_Kolkata Knight Riders', 'batting_team_Lucknow Super Giants', 'batting_team_Mumbai Indians', 'batting_team_Punjab Kings', 'batting_team_Rajasthan Royals', 'batting_team_Rising Pune Supergiants', 'batting_team_Royal Challengers Bengaluru', 'batting_team_Sunrisers Hyderabad', 'bowling_team_Delhi Capitals', 'bowling_team_Gujarat Titans', 'bowling_team_Kolkata Knight Riders', 'bowling_team_Lucknow Super Giants', 'bowling_team_Mumbai Indians', 'bowling_team_Punjab Kings', 'bowling_team_Rajasthan Royals', 'bowling_team_Rising Pune Supergiants', 'bowling_team_Royal Challengers Bengaluru', 'bowling_team_Sunrisers Hyderabad', 'batting_team_win']]\n",
      "[2025-09-24 12:56:24,416: INFO: 3552706665: Target column from config: batting_team_win]\n"
     ]
    }
   ],
   "source": [
    "try:\n",
    "    config = ConfigurationManager()\n",
    "    model_trainer_config = config.get_model_trainer_config()\n",
    "    model_trainer = ModelTrainer(config=model_trainer_config)\n",
    "    model = model_trainer.train()\n",
    "except Exception as e:\n",
    "    raise e"
   ]
  },
  {
   "cell_type": "code",
   "execution_count": null,
   "id": "97f57af9",
   "metadata": {},
   "outputs": [],
   "source": []
  }
 ],
 "metadata": {
  "kernelspec": {
   "display_name": "Python 3",
   "language": "python",
   "name": "python3"
  },
  "language_info": {
   "codemirror_mode": {
    "name": "ipython",
    "version": 3
   },
   "file_extension": ".py",
   "mimetype": "text/x-python",
   "name": "python",
   "nbconvert_exporter": "python",
   "pygments_lexer": "ipython3",
   "version": "3.12.0"
  }
 },
 "nbformat": 4,
 "nbformat_minor": 5
}
