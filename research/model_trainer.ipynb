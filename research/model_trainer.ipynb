{
 "cells": [
  {
   "cell_type": "code",
   "execution_count": 1,
   "id": "f71061eb",
   "metadata": {},
   "outputs": [],
   "source": [
    "import os"
   ]
  },
  {
   "cell_type": "code",
   "execution_count": 2,
   "id": "010587d3",
   "metadata": {},
   "outputs": [
    {
     "data": {
      "text/plain": [
       "'/Users/suyash/Desktop/End to End/research'"
      ]
     },
     "execution_count": 2,
     "metadata": {},
     "output_type": "execute_result"
    }
   ],
   "source": [
    "%pwd"
   ]
  },
  {
   "cell_type": "code",
   "execution_count": 3,
   "id": "08b92b0b",
   "metadata": {},
   "outputs": [],
   "source": [
    "os.chdir('../')"
   ]
  },
  {
   "cell_type": "code",
   "execution_count": 4,
   "id": "b4af2433",
   "metadata": {},
   "outputs": [],
   "source": [
    "import pandas as pd"
   ]
  },
  {
   "cell_type": "code",
   "execution_count": 11,
   "id": "3594562b",
   "metadata": {},
   "outputs": [],
   "source": [
    "from dataclasses import dataclass\n",
    "from pathlib import Path    \n",
    "\n",
    "\n",
    "# Fix DataSpilter to DataSplitter in the config class\n",
    "@dataclass\n",
    "class DataSplitterConfig:  # Changed from DataSpilterConfig\n",
    "    root_dir: Path\n",
    "    train_data: Path\n",
    "    test_data: Path\n",
    "    split_ratio: float\n",
    "    random_state: int\n",
    "    unzip_data_dir: Path  # Add this missing field"
   ]
  },
  {
   "cell_type": "code",
   "execution_count": 12,
   "id": "c5ce1b95",
   "metadata": {},
   "outputs": [],
   "source": [
    "from src.IPL_Predictor.constants import *\n",
    "from src.IPL_Predictor.utils.common import read_yaml, create_directories"
   ]
  },
  {
   "cell_type": "code",
   "execution_count": 13,
   "id": "7cecabd8",
   "metadata": {},
   "outputs": [],
   "source": [
    "class DataSplitter:  \n",
    "    def __init__(self, config: DataSplitterConfig):\n",
    "        self.config = config\n",
    "\n",
    "    def split_data(self):  # Fixed method name from spilt_data\n",
    "        df = pd.read_csv(self.config.unzip_data_dir)\n",
    "\n",
    "        train_df = df.sample(\n",
    "            frac=self.config.split_ratio,  # Changed from 1 - split_ratio\n",
    "            random_state=self.config.random_state\n",
    "        )\n",
    "        test_df = df.drop(train_df.index)\n",
    "\n",
    "        train_df.to_csv(self.config.train_data, index=False)\n",
    "        test_df.to_csv(self.config.test_data, index=False)\n",
    "\n",
    "        logger.info(f\"Train and Test data saved in {self.config.root_dir}\")\n",
    "\n",
    "        return self.config.train_data, self.config.test_data"
   ]
  },
  {
   "cell_type": "code",
   "execution_count": 14,
   "id": "c9beab31",
   "metadata": {},
   "outputs": [],
   "source": [
    "from src.IPL_Predictor import logger"
   ]
  },
  {
   "cell_type": "code",
   "execution_count": 15,
   "id": "07eb4328",
   "metadata": {},
   "outputs": [],
   "source": [
    "class DataSplitter:  # Changed from DataSpilter\n",
    "    def __init__(self, config: DataSplitterConfig):\n",
    "        self.config = config\n",
    "\n",
    "    def split_data(self):  # Fixed method name from spilt_data\n",
    "        df = pd.read_csv(self.config.unzip_data_dir)\n",
    "\n",
    "        train_df = df.sample(\n",
    "            frac=self.config.split_ratio,  # Changed from 1 - split_ratio\n",
    "            random_state=self.config.random_state\n",
    "        )\n",
    "        test_df = df.drop(train_df.index)\n",
    "\n",
    "        train_df.to_csv(self.config.train_data, index=False)\n",
    "        test_df.to_csv(self.config.test_data, index=False)\n",
    "\n",
    "        logger.info(f\"Train and Test data saved in {self.config.root_dir}\")\n",
    "\n",
    "        return self.config.train_data, self.config.test_data"
   ]
  },
  {
   "cell_type": "code",
   "execution_count": 16,
   "id": "ddadf2bc",
   "metadata": {},
   "outputs": [
    {
     "name": "stdout",
     "output_type": "stream",
     "text": [
      "[2025-09-21 18:30:23,505: ERROR: 1510746215: Error occurred during data validation: name 'ConfigurationManager' is not defined]\n"
     ]
    }
   ],
   "source": [
    "try:\n",
    "    config = ConfigurationManager()\n",
    "    data_splitting_config = config.get_data_splitter_config()\n",
    "    data_validation = DataSplitter(config=data_splitting_config)\n",
    "    data_validation.split_data()\n",
    "except Exception as e:\n",
    "    logger.error(f\"Error occurred during data validation: {e}\")"
   ]
  },
  {
   "cell_type": "code",
   "execution_count": null,
   "id": "82e69e98",
   "metadata": {},
   "outputs": [],
   "source": []
  },
  {
   "cell_type": "code",
   "execution_count": null,
   "id": "181895d6",
   "metadata": {},
   "outputs": [],
   "source": []
  },
  {
   "cell_type": "code",
   "execution_count": null,
   "id": "37a2d8c3",
   "metadata": {},
   "outputs": [],
   "source": []
  },
  {
   "cell_type": "code",
   "execution_count": null,
   "id": "8842918f",
   "metadata": {},
   "outputs": [],
   "source": []
  },
  {
   "cell_type": "code",
   "execution_count": null,
   "id": "f895a7fa",
   "metadata": {},
   "outputs": [],
   "source": []
  },
  {
   "cell_type": "code",
   "execution_count": null,
   "id": "55bc2355",
   "metadata": {},
   "outputs": [],
   "source": []
  }
 ],
 "metadata": {
  "kernelspec": {
   "display_name": "Python 3",
   "language": "python",
   "name": "python3"
  },
  "language_info": {
   "codemirror_mode": {
    "name": "ipython",
    "version": 3
   },
   "file_extension": ".py",
   "mimetype": "text/x-python",
   "name": "python",
   "nbconvert_exporter": "python",
   "pygments_lexer": "ipython3",
   "version": "3.12.0"
  }
 },
 "nbformat": 4,
 "nbformat_minor": 5
}
