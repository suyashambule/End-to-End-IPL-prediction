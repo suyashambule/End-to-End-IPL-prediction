{
 "cells": [
  {
   "cell_type": "code",
   "execution_count": null,
   "id": "f71061eb",
   "metadata": {},
   "outputs": [],
   "source": [
    "import os"
   ]
  },
  {
   "cell_type": "code",
   "execution_count": 3,
   "id": "010587d3",
   "metadata": {},
   "outputs": [
    {
     "data": {
      "text/plain": [
       "'/Users/suyash/Desktop/End to End/research'"
      ]
     },
     "execution_count": 3,
     "metadata": {},
     "output_type": "execute_result"
    }
   ],
   "source": [
    "%pwd"
   ]
  },
  {
   "cell_type": "code",
   "execution_count": 4,
   "id": "08b92b0b",
   "metadata": {},
   "outputs": [],
   "source": [
    "os.chdir('../')"
   ]
  },
  {
   "cell_type": "code",
   "execution_count": 5,
   "id": "b4af2433",
   "metadata": {},
   "outputs": [],
   "source": [
    "import pandas as pd"
   ]
  },
  {
   "cell_type": "code",
   "execution_count": 8,
   "id": "3594562b",
   "metadata": {},
   "outputs": [],
   "source": [
    "from dataclasses import dataclass\n",
    "from pathlib import Path    \n",
    "\n",
    "\n",
    "@dataclass\n",
    "class DataSpilterConfig:\n",
    "    root_dir:Path\n",
    "    train_data:Path\n",
    "    test_data:Path\n",
    "    split_ratio:float\n",
    "    random_state:int"
   ]
  },
  {
   "cell_type": "code",
   "execution_count": 9,
   "id": "c5ce1b95",
   "metadata": {},
   "outputs": [],
   "source": [
    "from src.IPL_Predictor.constants import *\n",
    "from src.IPL_Predictor.utils.common import read_yaml, create_directories"
   ]
  },
  {
   "cell_type": "code",
   "execution_count": 15,
   "id": "7cecabd8",
   "metadata": {},
   "outputs": [],
   "source": [
    "class ConfigurationManager:\n",
    "    def __init__(\n",
    "        self,\n",
    "        config_filepath = CONFIG_FILE_PATH,\n",
    "        params_filepath = PARAMS_FILE_PATH,\n",
    "        schema_filepath = SCHEMA_FILE_PATH):\n",
    "\n",
    "        self.config = read_yaml(config_filepath)\n",
    "        self.params = read_yaml(params_filepath)\n",
    "        self.schema = read_yaml(schema_filepath)\n",
    "\n",
    "        create_directories([self.config.artifacts_root])\n",
    "\n",
    "    def get_data_spilter_config(self) -> DataSpilterConfig:\n",
    "        config = self.config.data_spilter\n",
    "        split_ratio = self.config.split_ratio\n",
    "        random_state = self.config.random_state\n",
    "\n",
    "        create_directories([config.root_dir])\n",
    "\n",
    "        data_spilter_config = DataSpilterConfig(\n",
    "            root_dir=config.root_dir,\n",
    "            train_data=config.train_data,\n",
    "            test_data=config.test_data,\n",
    "            split_ratio=config.split_ratio,\n",
    "            random_state=config.random_state,\n",
    "        )\n",
    "        return data_spilter_config\n",
    "        "
   ]
  },
  {
   "cell_type": "code",
   "execution_count": 16,
   "id": "c9beab31",
   "metadata": {},
   "outputs": [],
   "source": [
    "from src.IPL_Predictor import logger"
   ]
  },
  {
   "cell_type": "code",
   "execution_count": 17,
   "id": "07eb4328",
   "metadata": {},
   "outputs": [],
   "source": [
    "class DataSpilter:\n",
    "    def __init__(self, config: DataSpilterConfig):\n",
    "        self.config = config\n",
    "\n",
    "    def spilt_data(self):\n",
    "        df = pd.read_csv(self.config.unzip_data_dir)\n",
    "\n",
    "\n",
    "        train_df = df.sample(\n",
    "            frac=1 - self.config.split_ratio,\n",
    "            random_state=self.config.random_state\n",
    "        )\n",
    "        test_df = df.drop(train_df.index)\n",
    "\n",
    "        train_df.to_csv(self.config.train_data, index=False)\n",
    "        test_df.to_csv(self.config.test_data, index=False)\n",
    "\n",
    "        logger.info(f\"Train and Test data saved in {self.config.root_dir}\")\n",
    "\n",
    "        return self.config.train_data, self.config.test_data"
   ]
  },
  {
   "cell_type": "code",
   "execution_count": 18,
   "id": "ddadf2bc",
   "metadata": {},
   "outputs": [
    {
     "name": "stdout",
     "output_type": "stream",
     "text": [
      "[2025-09-21 18:13:35,422: INFO: common: yaml file: config/config.yaml loaded successfully]\n",
      "[2025-09-21 18:13:35,424: INFO: common: yaml file: params.yaml loaded successfully]\n",
      "[2025-09-21 18:13:35,426: INFO: common: yaml file: schema.yaml loaded successfully]\n",
      "[2025-09-21 18:13:35,427: INFO: common: created directory at : artifacts]\n",
      "[2025-09-21 18:13:35,427: ERROR: 353886353: Error occurred during data validation: \"'ConfigBox' object has no attribute 'data_spilter'\"]\n"
     ]
    }
   ],
   "source": [
    "try:\n",
    "    config = ConfigurationManager()\n",
    "    data_spiltting_config = config.get_data_spilter_config()\n",
    "    data_validation = DataSpilter(config=data_spiltting_config)\n",
    "    data_validation.spilt_data()\n",
    "except Exception as e:\n",
    "    logger.error(f\"Error occurred during data validation: {e}\")"
   ]
  },
  {
   "cell_type": "code",
   "execution_count": null,
   "id": "82e69e98",
   "metadata": {},
   "outputs": [],
   "source": []
  },
  {
   "cell_type": "code",
   "execution_count": null,
   "id": "181895d6",
   "metadata": {},
   "outputs": [],
   "source": []
  }
 ],
 "metadata": {
  "kernelspec": {
   "display_name": "Python 3",
   "language": "python",
   "name": "python3"
  },
  "language_info": {
   "codemirror_mode": {
    "name": "ipython",
    "version": 3
   },
   "file_extension": ".py",
   "mimetype": "text/x-python",
   "name": "python",
   "nbconvert_exporter": "python",
   "pygments_lexer": "ipython3",
   "version": "3.12.0"
  }
 },
 "nbformat": 4,
 "nbformat_minor": 5
}
