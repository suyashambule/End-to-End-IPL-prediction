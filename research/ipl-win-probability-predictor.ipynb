{
 "cells": [
  {
   "cell_type": "code",
   "execution_count": 8,
   "id": "68b63cc0",
   "metadata": {},
   "outputs": [
    {
     "data": {
      "text/plain": [
       "'/Users/suyash/Desktop/End to End'"
      ]
     },
     "execution_count": 8,
     "metadata": {},
     "output_type": "execute_result"
    }
   ],
   "source": [
    "%pwd"
   ]
  },
  {
   "cell_type": "code",
   "execution_count": 5,
   "id": "97e5e25a",
   "metadata": {},
   "outputs": [],
   "source": [
    "import os\n",
    "os.chdir(\"../\")"
   ]
  },
  {
   "cell_type": "code",
   "execution_count": 2,
   "id": "cf272146",
   "metadata": {},
   "outputs": [],
   "source": [
    "import pandas as pd"
   ]
  },
  {
   "cell_type": "code",
   "execution_count": 10,
   "id": "2c6bd2d8",
   "metadata": {},
   "outputs": [
    {
     "data": {
      "text/html": [
       "<div>\n",
       "<style scoped>\n",
       "    .dataframe tbody tr th:only-of-type {\n",
       "        vertical-align: middle;\n",
       "    }\n",
       "\n",
       "    .dataframe tbody tr th {\n",
       "        vertical-align: top;\n",
       "    }\n",
       "\n",
       "    .dataframe thead th {\n",
       "        text-align: right;\n",
       "    }\n",
       "</style>\n",
       "<table border=\"1\" class=\"dataframe\">\n",
       "  <thead>\n",
       "    <tr style=\"text-align: right;\">\n",
       "      <th></th>\n",
       "      <th>match_id</th>\n",
       "      <th>inning</th>\n",
       "      <th>batting_team</th>\n",
       "      <th>bowling_team</th>\n",
       "      <th>over</th>\n",
       "      <th>ball</th>\n",
       "      <th>batter</th>\n",
       "      <th>bowler</th>\n",
       "      <th>non_striker</th>\n",
       "      <th>batsman_runs</th>\n",
       "      <th>extra_runs</th>\n",
       "      <th>total_runs</th>\n",
       "      <th>extras_type</th>\n",
       "      <th>is_wicket</th>\n",
       "      <th>player_dismissed</th>\n",
       "      <th>dismissal_kind</th>\n",
       "      <th>fielder</th>\n",
       "    </tr>\n",
       "  </thead>\n",
       "  <tbody>\n",
       "    <tr>\n",
       "      <th>0</th>\n",
       "      <td>335982</td>\n",
       "      <td>1</td>\n",
       "      <td>Kolkata Knight Riders</td>\n",
       "      <td>Royal Challengers Bangalore</td>\n",
       "      <td>0</td>\n",
       "      <td>1</td>\n",
       "      <td>SC Ganguly</td>\n",
       "      <td>P Kumar</td>\n",
       "      <td>BB McCullum</td>\n",
       "      <td>0</td>\n",
       "      <td>1</td>\n",
       "      <td>1</td>\n",
       "      <td>legbyes</td>\n",
       "      <td>0</td>\n",
       "      <td>NaN</td>\n",
       "      <td>NaN</td>\n",
       "      <td>NaN</td>\n",
       "    </tr>\n",
       "    <tr>\n",
       "      <th>1</th>\n",
       "      <td>335982</td>\n",
       "      <td>1</td>\n",
       "      <td>Kolkata Knight Riders</td>\n",
       "      <td>Royal Challengers Bangalore</td>\n",
       "      <td>0</td>\n",
       "      <td>2</td>\n",
       "      <td>BB McCullum</td>\n",
       "      <td>P Kumar</td>\n",
       "      <td>SC Ganguly</td>\n",
       "      <td>0</td>\n",
       "      <td>0</td>\n",
       "      <td>0</td>\n",
       "      <td>NaN</td>\n",
       "      <td>0</td>\n",
       "      <td>NaN</td>\n",
       "      <td>NaN</td>\n",
       "      <td>NaN</td>\n",
       "    </tr>\n",
       "    <tr>\n",
       "      <th>2</th>\n",
       "      <td>335982</td>\n",
       "      <td>1</td>\n",
       "      <td>Kolkata Knight Riders</td>\n",
       "      <td>Royal Challengers Bangalore</td>\n",
       "      <td>0</td>\n",
       "      <td>3</td>\n",
       "      <td>BB McCullum</td>\n",
       "      <td>P Kumar</td>\n",
       "      <td>SC Ganguly</td>\n",
       "      <td>0</td>\n",
       "      <td>1</td>\n",
       "      <td>1</td>\n",
       "      <td>wides</td>\n",
       "      <td>0</td>\n",
       "      <td>NaN</td>\n",
       "      <td>NaN</td>\n",
       "      <td>NaN</td>\n",
       "    </tr>\n",
       "    <tr>\n",
       "      <th>3</th>\n",
       "      <td>335982</td>\n",
       "      <td>1</td>\n",
       "      <td>Kolkata Knight Riders</td>\n",
       "      <td>Royal Challengers Bangalore</td>\n",
       "      <td>0</td>\n",
       "      <td>4</td>\n",
       "      <td>BB McCullum</td>\n",
       "      <td>P Kumar</td>\n",
       "      <td>SC Ganguly</td>\n",
       "      <td>0</td>\n",
       "      <td>0</td>\n",
       "      <td>0</td>\n",
       "      <td>NaN</td>\n",
       "      <td>0</td>\n",
       "      <td>NaN</td>\n",
       "      <td>NaN</td>\n",
       "      <td>NaN</td>\n",
       "    </tr>\n",
       "    <tr>\n",
       "      <th>4</th>\n",
       "      <td>335982</td>\n",
       "      <td>1</td>\n",
       "      <td>Kolkata Knight Riders</td>\n",
       "      <td>Royal Challengers Bangalore</td>\n",
       "      <td>0</td>\n",
       "      <td>5</td>\n",
       "      <td>BB McCullum</td>\n",
       "      <td>P Kumar</td>\n",
       "      <td>SC Ganguly</td>\n",
       "      <td>0</td>\n",
       "      <td>0</td>\n",
       "      <td>0</td>\n",
       "      <td>NaN</td>\n",
       "      <td>0</td>\n",
       "      <td>NaN</td>\n",
       "      <td>NaN</td>\n",
       "      <td>NaN</td>\n",
       "    </tr>\n",
       "  </tbody>\n",
       "</table>\n",
       "</div>"
      ],
      "text/plain": [
       "   match_id  inning           batting_team                 bowling_team  over  \\\n",
       "0    335982       1  Kolkata Knight Riders  Royal Challengers Bangalore     0   \n",
       "1    335982       1  Kolkata Knight Riders  Royal Challengers Bangalore     0   \n",
       "2    335982       1  Kolkata Knight Riders  Royal Challengers Bangalore     0   \n",
       "3    335982       1  Kolkata Knight Riders  Royal Challengers Bangalore     0   \n",
       "4    335982       1  Kolkata Knight Riders  Royal Challengers Bangalore     0   \n",
       "\n",
       "   ball       batter   bowler  non_striker  batsman_runs  extra_runs  \\\n",
       "0     1   SC Ganguly  P Kumar  BB McCullum             0           1   \n",
       "1     2  BB McCullum  P Kumar   SC Ganguly             0           0   \n",
       "2     3  BB McCullum  P Kumar   SC Ganguly             0           1   \n",
       "3     4  BB McCullum  P Kumar   SC Ganguly             0           0   \n",
       "4     5  BB McCullum  P Kumar   SC Ganguly             0           0   \n",
       "\n",
       "   total_runs extras_type  is_wicket player_dismissed dismissal_kind fielder  \n",
       "0           1     legbyes          0              NaN            NaN     NaN  \n",
       "1           0         NaN          0              NaN            NaN     NaN  \n",
       "2           1       wides          0              NaN            NaN     NaN  \n",
       "3           0         NaN          0              NaN            NaN     NaN  \n",
       "4           0         NaN          0              NaN            NaN     NaN  "
      ]
     },
     "execution_count": 10,
     "metadata": {},
     "output_type": "execute_result"
    }
   ],
   "source": [
    "df_balls = pd.read_csv('artifacts/data_ingestion/deliveries.csv')\n",
    "df_matches = pd.read_csv('artifacts/data_ingestion/matches.csv')\n",
    "df_balls.head()"
   ]
  },
  {
   "cell_type": "code",
   "execution_count": 11,
   "id": "35172619",
   "metadata": {
    "execution": {
     "iopub.execute_input": "2025-08-10T15:30:19.097975Z",
     "iopub.status.busy": "2025-08-10T15:30:19.097268Z",
     "iopub.status.idle": "2025-08-10T15:30:19.114936Z",
     "shell.execute_reply": "2025-08-10T15:30:19.114046Z"
    },
    "papermill": {
     "duration": 0.029656,
     "end_time": "2025-08-10T15:30:19.116870",
     "exception": false,
     "start_time": "2025-08-10T15:30:19.087214",
     "status": "completed"
    },
    "tags": []
   },
   "outputs": [
    {
     "data": {
      "text/html": [
       "<div>\n",
       "<style scoped>\n",
       "    .dataframe tbody tr th:only-of-type {\n",
       "        vertical-align: middle;\n",
       "    }\n",
       "\n",
       "    .dataframe tbody tr th {\n",
       "        vertical-align: top;\n",
       "    }\n",
       "\n",
       "    .dataframe thead th {\n",
       "        text-align: right;\n",
       "    }\n",
       "</style>\n",
       "<table border=\"1\" class=\"dataframe\">\n",
       "  <thead>\n",
       "    <tr style=\"text-align: right;\">\n",
       "      <th></th>\n",
       "      <th>id</th>\n",
       "      <th>season</th>\n",
       "      <th>city</th>\n",
       "      <th>date</th>\n",
       "      <th>match_type</th>\n",
       "      <th>player_of_match</th>\n",
       "      <th>venue</th>\n",
       "      <th>team1</th>\n",
       "      <th>team2</th>\n",
       "      <th>toss_winner</th>\n",
       "      <th>toss_decision</th>\n",
       "      <th>winner</th>\n",
       "      <th>result</th>\n",
       "      <th>result_margin</th>\n",
       "      <th>target_runs</th>\n",
       "      <th>target_overs</th>\n",
       "      <th>super_over</th>\n",
       "      <th>method</th>\n",
       "      <th>umpire1</th>\n",
       "      <th>umpire2</th>\n",
       "    </tr>\n",
       "  </thead>\n",
       "  <tbody>\n",
       "    <tr>\n",
       "      <th>0</th>\n",
       "      <td>335982</td>\n",
       "      <td>2007/08</td>\n",
       "      <td>Bangalore</td>\n",
       "      <td>2008-04-18</td>\n",
       "      <td>League</td>\n",
       "      <td>BB McCullum</td>\n",
       "      <td>M Chinnaswamy Stadium</td>\n",
       "      <td>Royal Challengers Bangalore</td>\n",
       "      <td>Kolkata Knight Riders</td>\n",
       "      <td>Royal Challengers Bangalore</td>\n",
       "      <td>field</td>\n",
       "      <td>Kolkata Knight Riders</td>\n",
       "      <td>runs</td>\n",
       "      <td>140.0</td>\n",
       "      <td>223.0</td>\n",
       "      <td>20.0</td>\n",
       "      <td>N</td>\n",
       "      <td>NaN</td>\n",
       "      <td>Asad Rauf</td>\n",
       "      <td>RE Koertzen</td>\n",
       "    </tr>\n",
       "    <tr>\n",
       "      <th>1</th>\n",
       "      <td>335983</td>\n",
       "      <td>2007/08</td>\n",
       "      <td>Chandigarh</td>\n",
       "      <td>2008-04-19</td>\n",
       "      <td>League</td>\n",
       "      <td>MEK Hussey</td>\n",
       "      <td>Punjab Cricket Association Stadium, Mohali</td>\n",
       "      <td>Kings XI Punjab</td>\n",
       "      <td>Chennai Super Kings</td>\n",
       "      <td>Chennai Super Kings</td>\n",
       "      <td>bat</td>\n",
       "      <td>Chennai Super Kings</td>\n",
       "      <td>runs</td>\n",
       "      <td>33.0</td>\n",
       "      <td>241.0</td>\n",
       "      <td>20.0</td>\n",
       "      <td>N</td>\n",
       "      <td>NaN</td>\n",
       "      <td>MR Benson</td>\n",
       "      <td>SL Shastri</td>\n",
       "    </tr>\n",
       "    <tr>\n",
       "      <th>2</th>\n",
       "      <td>335984</td>\n",
       "      <td>2007/08</td>\n",
       "      <td>Delhi</td>\n",
       "      <td>2008-04-19</td>\n",
       "      <td>League</td>\n",
       "      <td>MF Maharoof</td>\n",
       "      <td>Feroz Shah Kotla</td>\n",
       "      <td>Delhi Daredevils</td>\n",
       "      <td>Rajasthan Royals</td>\n",
       "      <td>Rajasthan Royals</td>\n",
       "      <td>bat</td>\n",
       "      <td>Delhi Daredevils</td>\n",
       "      <td>wickets</td>\n",
       "      <td>9.0</td>\n",
       "      <td>130.0</td>\n",
       "      <td>20.0</td>\n",
       "      <td>N</td>\n",
       "      <td>NaN</td>\n",
       "      <td>Aleem Dar</td>\n",
       "      <td>GA Pratapkumar</td>\n",
       "    </tr>\n",
       "    <tr>\n",
       "      <th>3</th>\n",
       "      <td>335985</td>\n",
       "      <td>2007/08</td>\n",
       "      <td>Mumbai</td>\n",
       "      <td>2008-04-20</td>\n",
       "      <td>League</td>\n",
       "      <td>MV Boucher</td>\n",
       "      <td>Wankhede Stadium</td>\n",
       "      <td>Mumbai Indians</td>\n",
       "      <td>Royal Challengers Bangalore</td>\n",
       "      <td>Mumbai Indians</td>\n",
       "      <td>bat</td>\n",
       "      <td>Royal Challengers Bangalore</td>\n",
       "      <td>wickets</td>\n",
       "      <td>5.0</td>\n",
       "      <td>166.0</td>\n",
       "      <td>20.0</td>\n",
       "      <td>N</td>\n",
       "      <td>NaN</td>\n",
       "      <td>SJ Davis</td>\n",
       "      <td>DJ Harper</td>\n",
       "    </tr>\n",
       "    <tr>\n",
       "      <th>4</th>\n",
       "      <td>335986</td>\n",
       "      <td>2007/08</td>\n",
       "      <td>Kolkata</td>\n",
       "      <td>2008-04-20</td>\n",
       "      <td>League</td>\n",
       "      <td>DJ Hussey</td>\n",
       "      <td>Eden Gardens</td>\n",
       "      <td>Kolkata Knight Riders</td>\n",
       "      <td>Deccan Chargers</td>\n",
       "      <td>Deccan Chargers</td>\n",
       "      <td>bat</td>\n",
       "      <td>Kolkata Knight Riders</td>\n",
       "      <td>wickets</td>\n",
       "      <td>5.0</td>\n",
       "      <td>111.0</td>\n",
       "      <td>20.0</td>\n",
       "      <td>N</td>\n",
       "      <td>NaN</td>\n",
       "      <td>BF Bowden</td>\n",
       "      <td>K Hariharan</td>\n",
       "    </tr>\n",
       "  </tbody>\n",
       "</table>\n",
       "</div>"
      ],
      "text/plain": [
       "       id   season        city        date match_type player_of_match  \\\n",
       "0  335982  2007/08   Bangalore  2008-04-18     League     BB McCullum   \n",
       "1  335983  2007/08  Chandigarh  2008-04-19     League      MEK Hussey   \n",
       "2  335984  2007/08       Delhi  2008-04-19     League     MF Maharoof   \n",
       "3  335985  2007/08      Mumbai  2008-04-20     League      MV Boucher   \n",
       "4  335986  2007/08     Kolkata  2008-04-20     League       DJ Hussey   \n",
       "\n",
       "                                        venue                        team1  \\\n",
       "0                       M Chinnaswamy Stadium  Royal Challengers Bangalore   \n",
       "1  Punjab Cricket Association Stadium, Mohali              Kings XI Punjab   \n",
       "2                            Feroz Shah Kotla             Delhi Daredevils   \n",
       "3                            Wankhede Stadium               Mumbai Indians   \n",
       "4                                Eden Gardens        Kolkata Knight Riders   \n",
       "\n",
       "                         team2                  toss_winner toss_decision  \\\n",
       "0        Kolkata Knight Riders  Royal Challengers Bangalore         field   \n",
       "1          Chennai Super Kings          Chennai Super Kings           bat   \n",
       "2             Rajasthan Royals             Rajasthan Royals           bat   \n",
       "3  Royal Challengers Bangalore               Mumbai Indians           bat   \n",
       "4              Deccan Chargers              Deccan Chargers           bat   \n",
       "\n",
       "                        winner   result  result_margin  target_runs  \\\n",
       "0        Kolkata Knight Riders     runs          140.0        223.0   \n",
       "1          Chennai Super Kings     runs           33.0        241.0   \n",
       "2             Delhi Daredevils  wickets            9.0        130.0   \n",
       "3  Royal Challengers Bangalore  wickets            5.0        166.0   \n",
       "4        Kolkata Knight Riders  wickets            5.0        111.0   \n",
       "\n",
       "   target_overs super_over method    umpire1         umpire2  \n",
       "0          20.0          N    NaN  Asad Rauf     RE Koertzen  \n",
       "1          20.0          N    NaN  MR Benson      SL Shastri  \n",
       "2          20.0          N    NaN  Aleem Dar  GA Pratapkumar  \n",
       "3          20.0          N    NaN   SJ Davis       DJ Harper  \n",
       "4          20.0          N    NaN  BF Bowden     K Hariharan  "
      ]
     },
     "execution_count": 11,
     "metadata": {},
     "output_type": "execute_result"
    }
   ],
   "source": [
    "df_matches.head()"
   ]
  },
  {
   "cell_type": "code",
   "execution_count": 12,
   "id": "d501c4e8",
   "metadata": {
    "execution": {
     "iopub.execute_input": "2025-08-10T15:30:19.145352Z",
     "iopub.status.busy": "2025-08-10T15:30:19.145021Z",
     "iopub.status.idle": "2025-08-10T15:30:19.154163Z",
     "shell.execute_reply": "2025-08-10T15:30:19.153112Z"
    },
    "papermill": {
     "duration": 0.021326,
     "end_time": "2025-08-10T15:30:19.155885",
     "exception": false,
     "start_time": "2025-08-10T15:30:19.134559",
     "status": "completed"
    },
    "tags": []
   },
   "outputs": [
    {
     "data": {
      "text/plain": [
       "id                    0\n",
       "season                0\n",
       "city                 51\n",
       "date                  0\n",
       "match_type            0\n",
       "player_of_match       5\n",
       "venue                 0\n",
       "team1                 0\n",
       "team2                 0\n",
       "toss_winner           0\n",
       "toss_decision         0\n",
       "winner                5\n",
       "result                0\n",
       "result_margin        19\n",
       "target_runs           3\n",
       "target_overs          3\n",
       "super_over            0\n",
       "method             1074\n",
       "umpire1               0\n",
       "umpire2               0\n",
       "dtype: int64"
      ]
     },
     "execution_count": 12,
     "metadata": {},
     "output_type": "execute_result"
    }
   ],
   "source": [
    "df_matches.isnull().sum()"
   ]
  },
  {
   "cell_type": "markdown",
   "id": "da6536a3",
   "metadata": {
    "papermill": {
     "duration": 0.012267,
     "end_time": "2025-08-10T15:30:19.182556",
     "exception": false,
     "start_time": "2025-08-10T15:30:19.170289",
     "status": "completed"
    },
    "tags": []
   },
   "source": [
    "For null values we only focus on city, target_overs, and target_runs, as we need these columns for the final data."
   ]
  },
  {
   "cell_type": "code",
   "execution_count": 13,
   "id": "44677588",
   "metadata": {
    "execution": {
     "iopub.execute_input": "2025-08-10T15:30:19.204371Z",
     "iopub.status.busy": "2025-08-10T15:30:19.204040Z",
     "iopub.status.idle": "2025-08-10T15:30:19.223075Z",
     "shell.execute_reply": "2025-08-10T15:30:19.222012Z"
    },
    "papermill": {
     "duration": 0.032757,
     "end_time": "2025-08-10T15:30:19.225088",
     "exception": false,
     "start_time": "2025-08-10T15:30:19.192331",
     "status": "completed"
    },
    "tags": []
   },
   "outputs": [
    {
     "data": {
      "text/plain": [
       "array(['Sharjah Cricket Stadium', 'Dubai International Cricket Stadium'],\n",
       "      dtype=object)"
      ]
     },
     "execution_count": 13,
     "metadata": {},
     "output_type": "execute_result"
    }
   ],
   "source": [
    "df_matches[df_matches[['city']].isnull().any(axis=1)]['venue'].unique()"
   ]
  },
  {
   "cell_type": "markdown",
   "id": "5ad32689",
   "metadata": {
    "papermill": {
     "duration": 0.011062,
     "end_time": "2025-08-10T15:30:19.246748",
     "exception": false,
     "start_time": "2025-08-10T15:30:19.235686",
     "status": "completed"
    },
    "tags": []
   },
   "source": [
    "City Column value missing when venue is **'Sharjah Cricket Stadium**' OR **'Dubai International Cricket Stadium'**"
   ]
  },
  {
   "cell_type": "code",
   "execution_count": 14,
   "id": "5b50f2b9",
   "metadata": {
    "execution": {
     "iopub.execute_input": "2025-08-10T15:30:19.268933Z",
     "iopub.status.busy": "2025-08-10T15:30:19.268530Z",
     "iopub.status.idle": "2025-08-10T15:30:19.683296Z",
     "shell.execute_reply": "2025-08-10T15:30:19.682208Z"
    },
    "papermill": {
     "duration": 0.428068,
     "end_time": "2025-08-10T15:30:19.685771",
     "exception": false,
     "start_time": "2025-08-10T15:30:19.257703",
     "status": "completed"
    },
    "tags": []
   },
   "outputs": [],
   "source": [
    "def find_city(row):\n",
    "    if row[['city']].isnull().any():\n",
    "        if row['venue']=='Dubai International Cricket Stadium':\n",
    "            row['city']='Dubai'\n",
    "        else:\n",
    "            row['city']='Sharjah'\n",
    "    return row['city']\n",
    "\n",
    "df_matches['city'] = df_matches.apply(find_city,axis=1)"
   ]
  },
  {
   "cell_type": "code",
   "execution_count": 15,
   "id": "4fbfd2d3",
   "metadata": {
    "execution": {
     "iopub.execute_input": "2025-08-10T15:30:19.715708Z",
     "iopub.status.busy": "2025-08-10T15:30:19.715319Z",
     "iopub.status.idle": "2025-08-10T15:30:19.724356Z",
     "shell.execute_reply": "2025-08-10T15:30:19.723490Z"
    },
    "papermill": {
     "duration": 0.022726,
     "end_time": "2025-08-10T15:30:19.726104",
     "exception": false,
     "start_time": "2025-08-10T15:30:19.703378",
     "status": "completed"
    },
    "tags": []
   },
   "outputs": [],
   "source": [
    "#drop matches data where target runs and target overs is not avilable\n",
    "df_matches.dropna(subset=['target_runs','target_overs'],inplace=True)"
   ]
  },
  {
   "cell_type": "code",
   "execution_count": 16,
   "id": "03a40e99",
   "metadata": {
    "execution": {
     "iopub.execute_input": "2025-08-10T15:30:19.746395Z",
     "iopub.status.busy": "2025-08-10T15:30:19.745984Z",
     "iopub.status.idle": "2025-08-10T15:30:20.136064Z",
     "shell.execute_reply": "2025-08-10T15:30:20.135187Z"
    },
    "papermill": {
     "duration": 0.401951,
     "end_time": "2025-08-10T15:30:20.137581",
     "exception": false,
     "start_time": "2025-08-10T15:30:19.735630",
     "status": "completed"
    },
    "tags": []
   },
   "outputs": [
    {
     "data": {
      "text/html": [
       "<div>\n",
       "<style scoped>\n",
       "    .dataframe tbody tr th:only-of-type {\n",
       "        vertical-align: middle;\n",
       "    }\n",
       "\n",
       "    .dataframe tbody tr th {\n",
       "        vertical-align: top;\n",
       "    }\n",
       "\n",
       "    .dataframe thead th {\n",
       "        text-align: right;\n",
       "    }\n",
       "</style>\n",
       "<table border=\"1\" class=\"dataframe\">\n",
       "  <thead>\n",
       "    <tr style=\"text-align: right;\">\n",
       "      <th></th>\n",
       "      <th>match_id</th>\n",
       "      <th>season</th>\n",
       "      <th>city</th>\n",
       "      <th>date</th>\n",
       "      <th>match_type</th>\n",
       "      <th>player_of_match</th>\n",
       "      <th>venue</th>\n",
       "      <th>team1</th>\n",
       "      <th>team2</th>\n",
       "      <th>toss_winner</th>\n",
       "      <th>...</th>\n",
       "      <th>bowler</th>\n",
       "      <th>non_striker</th>\n",
       "      <th>batsman_runs</th>\n",
       "      <th>extra_runs</th>\n",
       "      <th>total_runs</th>\n",
       "      <th>extras_type</th>\n",
       "      <th>is_wicket</th>\n",
       "      <th>player_dismissed</th>\n",
       "      <th>dismissal_kind</th>\n",
       "      <th>fielder</th>\n",
       "    </tr>\n",
       "  </thead>\n",
       "  <tbody>\n",
       "    <tr>\n",
       "      <th>0</th>\n",
       "      <td>335982</td>\n",
       "      <td>2007/08</td>\n",
       "      <td>Bangalore</td>\n",
       "      <td>2008-04-18</td>\n",
       "      <td>League</td>\n",
       "      <td>BB McCullum</td>\n",
       "      <td>M Chinnaswamy Stadium</td>\n",
       "      <td>Royal Challengers Bangalore</td>\n",
       "      <td>Kolkata Knight Riders</td>\n",
       "      <td>Royal Challengers Bangalore</td>\n",
       "      <td>...</td>\n",
       "      <td>P Kumar</td>\n",
       "      <td>BB McCullum</td>\n",
       "      <td>0</td>\n",
       "      <td>1</td>\n",
       "      <td>1</td>\n",
       "      <td>legbyes</td>\n",
       "      <td>0</td>\n",
       "      <td>NaN</td>\n",
       "      <td>NaN</td>\n",
       "      <td>NaN</td>\n",
       "    </tr>\n",
       "    <tr>\n",
       "      <th>1</th>\n",
       "      <td>335982</td>\n",
       "      <td>2007/08</td>\n",
       "      <td>Bangalore</td>\n",
       "      <td>2008-04-18</td>\n",
       "      <td>League</td>\n",
       "      <td>BB McCullum</td>\n",
       "      <td>M Chinnaswamy Stadium</td>\n",
       "      <td>Royal Challengers Bangalore</td>\n",
       "      <td>Kolkata Knight Riders</td>\n",
       "      <td>Royal Challengers Bangalore</td>\n",
       "      <td>...</td>\n",
       "      <td>P Kumar</td>\n",
       "      <td>SC Ganguly</td>\n",
       "      <td>0</td>\n",
       "      <td>0</td>\n",
       "      <td>0</td>\n",
       "      <td>NaN</td>\n",
       "      <td>0</td>\n",
       "      <td>NaN</td>\n",
       "      <td>NaN</td>\n",
       "      <td>NaN</td>\n",
       "    </tr>\n",
       "    <tr>\n",
       "      <th>2</th>\n",
       "      <td>335982</td>\n",
       "      <td>2007/08</td>\n",
       "      <td>Bangalore</td>\n",
       "      <td>2008-04-18</td>\n",
       "      <td>League</td>\n",
       "      <td>BB McCullum</td>\n",
       "      <td>M Chinnaswamy Stadium</td>\n",
       "      <td>Royal Challengers Bangalore</td>\n",
       "      <td>Kolkata Knight Riders</td>\n",
       "      <td>Royal Challengers Bangalore</td>\n",
       "      <td>...</td>\n",
       "      <td>P Kumar</td>\n",
       "      <td>SC Ganguly</td>\n",
       "      <td>0</td>\n",
       "      <td>1</td>\n",
       "      <td>1</td>\n",
       "      <td>wides</td>\n",
       "      <td>0</td>\n",
       "      <td>NaN</td>\n",
       "      <td>NaN</td>\n",
       "      <td>NaN</td>\n",
       "    </tr>\n",
       "    <tr>\n",
       "      <th>3</th>\n",
       "      <td>335982</td>\n",
       "      <td>2007/08</td>\n",
       "      <td>Bangalore</td>\n",
       "      <td>2008-04-18</td>\n",
       "      <td>League</td>\n",
       "      <td>BB McCullum</td>\n",
       "      <td>M Chinnaswamy Stadium</td>\n",
       "      <td>Royal Challengers Bangalore</td>\n",
       "      <td>Kolkata Knight Riders</td>\n",
       "      <td>Royal Challengers Bangalore</td>\n",
       "      <td>...</td>\n",
       "      <td>P Kumar</td>\n",
       "      <td>SC Ganguly</td>\n",
       "      <td>0</td>\n",
       "      <td>0</td>\n",
       "      <td>0</td>\n",
       "      <td>NaN</td>\n",
       "      <td>0</td>\n",
       "      <td>NaN</td>\n",
       "      <td>NaN</td>\n",
       "      <td>NaN</td>\n",
       "    </tr>\n",
       "    <tr>\n",
       "      <th>4</th>\n",
       "      <td>335982</td>\n",
       "      <td>2007/08</td>\n",
       "      <td>Bangalore</td>\n",
       "      <td>2008-04-18</td>\n",
       "      <td>League</td>\n",
       "      <td>BB McCullum</td>\n",
       "      <td>M Chinnaswamy Stadium</td>\n",
       "      <td>Royal Challengers Bangalore</td>\n",
       "      <td>Kolkata Knight Riders</td>\n",
       "      <td>Royal Challengers Bangalore</td>\n",
       "      <td>...</td>\n",
       "      <td>P Kumar</td>\n",
       "      <td>SC Ganguly</td>\n",
       "      <td>0</td>\n",
       "      <td>0</td>\n",
       "      <td>0</td>\n",
       "      <td>NaN</td>\n",
       "      <td>0</td>\n",
       "      <td>NaN</td>\n",
       "      <td>NaN</td>\n",
       "      <td>NaN</td>\n",
       "    </tr>\n",
       "  </tbody>\n",
       "</table>\n",
       "<p>5 rows × 36 columns</p>\n",
       "</div>"
      ],
      "text/plain": [
       "   match_id   season       city        date match_type player_of_match  \\\n",
       "0    335982  2007/08  Bangalore  2008-04-18     League     BB McCullum   \n",
       "1    335982  2007/08  Bangalore  2008-04-18     League     BB McCullum   \n",
       "2    335982  2007/08  Bangalore  2008-04-18     League     BB McCullum   \n",
       "3    335982  2007/08  Bangalore  2008-04-18     League     BB McCullum   \n",
       "4    335982  2007/08  Bangalore  2008-04-18     League     BB McCullum   \n",
       "\n",
       "                   venue                        team1                  team2  \\\n",
       "0  M Chinnaswamy Stadium  Royal Challengers Bangalore  Kolkata Knight Riders   \n",
       "1  M Chinnaswamy Stadium  Royal Challengers Bangalore  Kolkata Knight Riders   \n",
       "2  M Chinnaswamy Stadium  Royal Challengers Bangalore  Kolkata Knight Riders   \n",
       "3  M Chinnaswamy Stadium  Royal Challengers Bangalore  Kolkata Knight Riders   \n",
       "4  M Chinnaswamy Stadium  Royal Challengers Bangalore  Kolkata Knight Riders   \n",
       "\n",
       "                   toss_winner  ...   bowler  non_striker batsman_runs  \\\n",
       "0  Royal Challengers Bangalore  ...  P Kumar  BB McCullum            0   \n",
       "1  Royal Challengers Bangalore  ...  P Kumar   SC Ganguly            0   \n",
       "2  Royal Challengers Bangalore  ...  P Kumar   SC Ganguly            0   \n",
       "3  Royal Challengers Bangalore  ...  P Kumar   SC Ganguly            0   \n",
       "4  Royal Challengers Bangalore  ...  P Kumar   SC Ganguly            0   \n",
       "\n",
       "   extra_runs  total_runs  extras_type is_wicket player_dismissed  \\\n",
       "0           1           1      legbyes         0              NaN   \n",
       "1           0           0          NaN         0              NaN   \n",
       "2           1           1        wides         0              NaN   \n",
       "3           0           0          NaN         0              NaN   \n",
       "4           0           0          NaN         0              NaN   \n",
       "\n",
       "  dismissal_kind fielder  \n",
       "0            NaN     NaN  \n",
       "1            NaN     NaN  \n",
       "2            NaN     NaN  \n",
       "3            NaN     NaN  \n",
       "4            NaN     NaN  \n",
       "\n",
       "[5 rows x 36 columns]"
      ]
     },
     "execution_count": 16,
     "metadata": {},
     "output_type": "execute_result"
    }
   ],
   "source": [
    "#merge matches and balls data by match id\n",
    "df_matches.rename(columns={'id':'match_id'}, inplace=True)\n",
    "df_merge = df_matches.merge(df_balls)\n",
    "df_merge.head()"
   ]
  },
  {
   "cell_type": "code",
   "execution_count": 17,
   "id": "56a99d52",
   "metadata": {
    "execution": {
     "iopub.execute_input": "2025-08-10T15:30:20.158585Z",
     "iopub.status.busy": "2025-08-10T15:30:20.158271Z",
     "iopub.status.idle": "2025-08-10T15:30:20.164021Z",
     "shell.execute_reply": "2025-08-10T15:30:20.163205Z"
    },
    "papermill": {
     "duration": 0.018073,
     "end_time": "2025-08-10T15:30:20.165636",
     "exception": false,
     "start_time": "2025-08-10T15:30:20.147563",
     "status": "completed"
    },
    "tags": []
   },
   "outputs": [
    {
     "data": {
      "text/plain": [
       "Index(['match_id', 'season', 'city', 'date', 'match_type', 'player_of_match',\n",
       "       'venue', 'team1', 'team2', 'toss_winner', 'toss_decision', 'winner',\n",
       "       'result', 'result_margin', 'target_runs', 'target_overs', 'super_over',\n",
       "       'method', 'umpire1', 'umpire2', 'inning', 'batting_team',\n",
       "       'bowling_team', 'over', 'ball', 'batter', 'bowler', 'non_striker',\n",
       "       'batsman_runs', 'extra_runs', 'total_runs', 'extras_type', 'is_wicket',\n",
       "       'player_dismissed', 'dismissal_kind', 'fielder'],\n",
       "      dtype='object')"
      ]
     },
     "execution_count": 17,
     "metadata": {},
     "output_type": "execute_result"
    }
   ],
   "source": [
    "df_merge.keys()"
   ]
  },
  {
   "cell_type": "code",
   "execution_count": 18,
   "id": "970d0f9d",
   "metadata": {
    "execution": {
     "iopub.execute_input": "2025-08-10T15:30:20.189905Z",
     "iopub.status.busy": "2025-08-10T15:30:20.189603Z",
     "iopub.status.idle": "2025-08-10T15:30:20.310116Z",
     "shell.execute_reply": "2025-08-10T15:30:20.309128Z"
    },
    "papermill": {
     "duration": 0.135606,
     "end_time": "2025-08-10T15:30:20.311617",
     "exception": false,
     "start_time": "2025-08-10T15:30:20.176011",
     "status": "completed"
    },
    "tags": []
   },
   "outputs": [
    {
     "data": {
      "text/html": [
       "<div>\n",
       "<style scoped>\n",
       "    .dataframe tbody tr th:only-of-type {\n",
       "        vertical-align: middle;\n",
       "    }\n",
       "\n",
       "    .dataframe tbody tr th {\n",
       "        vertical-align: top;\n",
       "    }\n",
       "\n",
       "    .dataframe thead th {\n",
       "        text-align: right;\n",
       "    }\n",
       "</style>\n",
       "<table border=\"1\" class=\"dataframe\">\n",
       "  <thead>\n",
       "    <tr style=\"text-align: right;\">\n",
       "      <th></th>\n",
       "      <th>match_id</th>\n",
       "      <th>result_margin</th>\n",
       "      <th>target_runs</th>\n",
       "      <th>target_overs</th>\n",
       "      <th>inning</th>\n",
       "      <th>over</th>\n",
       "      <th>ball</th>\n",
       "      <th>batsman_runs</th>\n",
       "      <th>extra_runs</th>\n",
       "      <th>total_runs</th>\n",
       "      <th>is_wicket</th>\n",
       "    </tr>\n",
       "  </thead>\n",
       "  <tbody>\n",
       "    <tr>\n",
       "      <th>count</th>\n",
       "      <td>2.606110e+05</td>\n",
       "      <td>256796.000000</td>\n",
       "      <td>260611.000000</td>\n",
       "      <td>260611.000000</td>\n",
       "      <td>260611.000000</td>\n",
       "      <td>260611.000000</td>\n",
       "      <td>260611.000000</td>\n",
       "      <td>260611.000000</td>\n",
       "      <td>260611.000000</td>\n",
       "      <td>260611.000000</td>\n",
       "      <td>260611.000000</td>\n",
       "    </tr>\n",
       "    <tr>\n",
       "      <th>mean</th>\n",
       "      <td>9.069977e+05</td>\n",
       "      <td>17.279451</td>\n",
       "      <td>167.290406</td>\n",
       "      <td>19.846742</td>\n",
       "      <td>1.484105</td>\n",
       "      <td>9.198510</td>\n",
       "      <td>3.624486</td>\n",
       "      <td>1.265142</td>\n",
       "      <td>0.067783</td>\n",
       "      <td>1.332925</td>\n",
       "      <td>0.049626</td>\n",
       "    </tr>\n",
       "    <tr>\n",
       "      <th>std</th>\n",
       "      <td>3.680254e+05</td>\n",
       "      <td>21.600307</td>\n",
       "      <td>32.165944</td>\n",
       "      <td>1.224266</td>\n",
       "      <td>0.502665</td>\n",
       "      <td>5.683555</td>\n",
       "      <td>1.814899</td>\n",
       "      <td>1.639402</td>\n",
       "      <td>0.343152</td>\n",
       "      <td>1.626509</td>\n",
       "      <td>0.217171</td>\n",
       "    </tr>\n",
       "    <tr>\n",
       "      <th>min</th>\n",
       "      <td>3.359820e+05</td>\n",
       "      <td>1.000000</td>\n",
       "      <td>43.000000</td>\n",
       "      <td>5.000000</td>\n",
       "      <td>1.000000</td>\n",
       "      <td>0.000000</td>\n",
       "      <td>1.000000</td>\n",
       "      <td>0.000000</td>\n",
       "      <td>0.000000</td>\n",
       "      <td>0.000000</td>\n",
       "      <td>0.000000</td>\n",
       "    </tr>\n",
       "    <tr>\n",
       "      <th>25%</th>\n",
       "      <td>5.483330e+05</td>\n",
       "      <td>6.000000</td>\n",
       "      <td>148.000000</td>\n",
       "      <td>20.000000</td>\n",
       "      <td>1.000000</td>\n",
       "      <td>4.000000</td>\n",
       "      <td>2.000000</td>\n",
       "      <td>0.000000</td>\n",
       "      <td>0.000000</td>\n",
       "      <td>0.000000</td>\n",
       "      <td>0.000000</td>\n",
       "    </tr>\n",
       "    <tr>\n",
       "      <th>50%</th>\n",
       "      <td>9.809670e+05</td>\n",
       "      <td>8.000000</td>\n",
       "      <td>167.000000</td>\n",
       "      <td>20.000000</td>\n",
       "      <td>1.000000</td>\n",
       "      <td>9.000000</td>\n",
       "      <td>4.000000</td>\n",
       "      <td>1.000000</td>\n",
       "      <td>0.000000</td>\n",
       "      <td>1.000000</td>\n",
       "      <td>0.000000</td>\n",
       "    </tr>\n",
       "    <tr>\n",
       "      <th>75%</th>\n",
       "      <td>1.254066e+06</td>\n",
       "      <td>20.000000</td>\n",
       "      <td>188.000000</td>\n",
       "      <td>20.000000</td>\n",
       "      <td>2.000000</td>\n",
       "      <td>14.000000</td>\n",
       "      <td>5.000000</td>\n",
       "      <td>1.000000</td>\n",
       "      <td>0.000000</td>\n",
       "      <td>1.000000</td>\n",
       "      <td>0.000000</td>\n",
       "    </tr>\n",
       "    <tr>\n",
       "      <th>max</th>\n",
       "      <td>1.426312e+06</td>\n",
       "      <td>146.000000</td>\n",
       "      <td>288.000000</td>\n",
       "      <td>20.000000</td>\n",
       "      <td>6.000000</td>\n",
       "      <td>19.000000</td>\n",
       "      <td>11.000000</td>\n",
       "      <td>6.000000</td>\n",
       "      <td>7.000000</td>\n",
       "      <td>7.000000</td>\n",
       "      <td>1.000000</td>\n",
       "    </tr>\n",
       "  </tbody>\n",
       "</table>\n",
       "</div>"
      ],
      "text/plain": [
       "           match_id  result_margin    target_runs   target_overs  \\\n",
       "count  2.606110e+05  256796.000000  260611.000000  260611.000000   \n",
       "mean   9.069977e+05      17.279451     167.290406      19.846742   \n",
       "std    3.680254e+05      21.600307      32.165944       1.224266   \n",
       "min    3.359820e+05       1.000000      43.000000       5.000000   \n",
       "25%    5.483330e+05       6.000000     148.000000      20.000000   \n",
       "50%    9.809670e+05       8.000000     167.000000      20.000000   \n",
       "75%    1.254066e+06      20.000000     188.000000      20.000000   \n",
       "max    1.426312e+06     146.000000     288.000000      20.000000   \n",
       "\n",
       "              inning           over           ball   batsman_runs  \\\n",
       "count  260611.000000  260611.000000  260611.000000  260611.000000   \n",
       "mean        1.484105       9.198510       3.624486       1.265142   \n",
       "std         0.502665       5.683555       1.814899       1.639402   \n",
       "min         1.000000       0.000000       1.000000       0.000000   \n",
       "25%         1.000000       4.000000       2.000000       0.000000   \n",
       "50%         1.000000       9.000000       4.000000       1.000000   \n",
       "75%         2.000000      14.000000       5.000000       1.000000   \n",
       "max         6.000000      19.000000      11.000000       6.000000   \n",
       "\n",
       "          extra_runs     total_runs      is_wicket  \n",
       "count  260611.000000  260611.000000  260611.000000  \n",
       "mean        0.067783       1.332925       0.049626  \n",
       "std         0.343152       1.626509       0.217171  \n",
       "min         0.000000       0.000000       0.000000  \n",
       "25%         0.000000       0.000000       0.000000  \n",
       "50%         0.000000       1.000000       0.000000  \n",
       "75%         0.000000       1.000000       0.000000  \n",
       "max         7.000000       7.000000       1.000000  "
      ]
     },
     "execution_count": 18,
     "metadata": {},
     "output_type": "execute_result"
    }
   ],
   "source": [
    "df_merge.describe()"
   ]
  },
  {
   "cell_type": "code",
   "execution_count": 19,
   "id": "a932fb97",
   "metadata": {
    "execution": {
     "iopub.execute_input": "2025-08-10T15:30:20.334540Z",
     "iopub.status.busy": "2025-08-10T15:30:20.334256Z",
     "iopub.status.idle": "2025-08-10T15:30:20.374614Z",
     "shell.execute_reply": "2025-08-10T15:30:20.373635Z"
    },
    "papermill": {
     "duration": 0.0535,
     "end_time": "2025-08-10T15:30:20.376286",
     "exception": false,
     "start_time": "2025-08-10T15:30:20.322786",
     "status": "completed"
    },
    "tags": []
   },
   "outputs": [
    {
     "data": {
      "text/plain": [
       "Chennai Super Kings            57109\n",
       "Deccan Chargers                18073\n",
       "Delhi Capitals                 22162\n",
       "Delhi Daredevils               37448\n",
       "Gujarat Lions                   7111\n",
       "Gujarat Titans                 10795\n",
       "Kings XI Punjab                45129\n",
       "Kochi Tuskers Kerala            3196\n",
       "Kolkata Knight Riders          59177\n",
       "Lucknow Super Giants           10508\n",
       "Mumbai Indians                 62942\n",
       "Pune Warriors                  10837\n",
       "Punjab Kings                   13552\n",
       "Rajasthan Royals               52546\n",
       "Rising Pune Supergiant          3828\n",
       "Rising Pune Supergiants         3195\n",
       "Royal Challengers Bangalore    56435\n",
       "Royal Challengers Bengaluru     3619\n",
       "Sunrisers Hyderabad            43560\n",
       "Name: count, dtype: int64"
      ]
     },
     "execution_count": 19,
     "metadata": {},
     "output_type": "execute_result"
    }
   ],
   "source": [
    "df_merge['team1'].value_counts() + df_merge['team2'].value_counts()"
   ]
  },
  {
   "cell_type": "markdown",
   "id": "81cdd00e",
   "metadata": {
    "papermill": {
     "duration": 0.010669,
     "end_time": "2025-08-10T15:30:20.465606",
     "exception": false,
     "start_time": "2025-08-10T15:30:20.454937",
     "status": "completed"
    },
    "tags": []
   },
   "source": [
    "convert,\n",
    "1. Deccan Chargers => Sunrisers Hyderabad\n",
    "2. Delhi Daredevils => Delhi Capitals\n",
    "3. Gujarat Lions => Gujarat Titans\n",
    "4. Kings XI Punjab => Punjab Kings\n",
    "5. Royal Challengers Bangalore => Royal Challengers Bengaluru\n",
    "6. Pune Warriors => Rising Pune Supergiants\n",
    "7. Rising Pune Supergiant => Rising Pune Supergiants\n",
    "\n",
    "remove,\n",
    "1. Kochi Tuskers Kerala"
   ]
  },
  {
   "cell_type": "code",
   "execution_count": 20,
   "id": "0fc5a59b",
   "metadata": {
    "execution": {
     "iopub.execute_input": "2025-08-10T15:30:20.489222Z",
     "iopub.status.busy": "2025-08-10T15:30:20.488810Z",
     "iopub.status.idle": "2025-08-10T15:30:22.395274Z",
     "shell.execute_reply": "2025-08-10T15:30:22.394063Z"
    },
    "papermill": {
     "duration": 1.91974,
     "end_time": "2025-08-10T15:30:22.397232",
     "exception": false,
     "start_time": "2025-08-10T15:30:20.477492",
     "status": "completed"
    },
    "tags": []
   },
   "outputs": [],
   "source": [
    "df_merge.replace(['Deccan Chargers','Delhi Daredevils','Gujarat Lions','Kings XI Punjab','Royal Challengers Bangalore','Pune Warriors','Rising Pune Supergiant'],\n",
    "    ['Sunrisers Hyderabad','Delhi Capitals','Gujarat Titans','Punjab Kings','Royal Challengers Bengaluru','Rising Pune Supergiants','Rising Pune Supergiants'],inplace=True)\n",
    "df_merge = df_merge[df_merge['team1']!='Kochi Tuskers Kerala']\n",
    "df_merge = df_merge[df_merge['team2']!='Kochi Tuskers Kerala']"
   ]
  },
  {
   "cell_type": "code",
   "execution_count": 22,
   "id": "8293d31a",
   "metadata": {
    "execution": {
     "iopub.execute_input": "2025-08-10T15:30:22.421028Z",
     "iopub.status.busy": "2025-08-10T15:30:22.419986Z",
     "iopub.status.idle": "2025-08-10T15:30:22.455699Z",
     "shell.execute_reply": "2025-08-10T15:30:22.454679Z"
    },
    "papermill": {
     "duration": 0.048934,
     "end_time": "2025-08-10T15:30:22.457391",
     "exception": false,
     "start_time": "2025-08-10T15:30:22.408457",
     "status": "completed"
    },
    "tags": []
   },
   "outputs": [
    {
     "data": {
      "text/plain": [
       "['Sunrisers Hyderabad',\n",
       " 'Royal Challengers Bengaluru',\n",
       " 'Punjab Kings',\n",
       " 'Gujarat Titans',\n",
       " 'Delhi Capitals',\n",
       " 'Kolkata Knight Riders',\n",
       " 'Mumbai Indians',\n",
       " 'Lucknow Super Giants',\n",
       " 'Chennai Super Kings',\n",
       " 'Rising Pune Supergiants',\n",
       " 'Rajasthan Royals']"
      ]
     },
     "execution_count": 22,
     "metadata": {},
     "output_type": "execute_result"
    }
   ],
   "source": [
    "import numpy as np\n",
    "list(set(np.concatenate((df_merge['team2'].unique(),df_merge['team2'].unique()))))"
   ]
  },
  {
   "cell_type": "code",
   "execution_count": 23,
   "id": "b079ff6e",
   "metadata": {
    "execution": {
     "iopub.execute_input": "2025-08-10T15:30:22.480825Z",
     "iopub.status.busy": "2025-08-10T15:30:22.480507Z",
     "iopub.status.idle": "2025-08-10T15:30:22.485388Z",
     "shell.execute_reply": "2025-08-10T15:30:22.484372Z"
    },
    "papermill": {
     "duration": 0.018426,
     "end_time": "2025-08-10T15:30:22.486903",
     "exception": false,
     "start_time": "2025-08-10T15:30:22.468477",
     "status": "completed"
    },
    "tags": []
   },
   "outputs": [],
   "source": [
    "\n",
    "teams = ['Kolkata Knight Riders',\n",
    " 'Sunrisers Hyderabad',\n",
    " 'Punjab Kings',\n",
    " 'Delhi Capitals',\n",
    " 'Gujarat Titans',\n",
    " 'Rajasthan Royals',\n",
    " 'Lucknow Super Giants',\n",
    " 'Chennai Super Kings',\n",
    " 'Mumbai Indians',\n",
    " 'Royal Challengers Bengaluru']"
   ]
  },
  {
   "cell_type": "code",
   "execution_count": 24,
   "id": "24f9e14f",
   "metadata": {
    "execution": {
     "iopub.execute_input": "2025-08-10T15:30:22.510235Z",
     "iopub.status.busy": "2025-08-10T15:30:22.509812Z",
     "iopub.status.idle": "2025-08-10T15:30:22.621246Z",
     "shell.execute_reply": "2025-08-10T15:30:22.620287Z"
    },
    "papermill": {
     "duration": 0.124337,
     "end_time": "2025-08-10T15:30:22.622936",
     "exception": false,
     "start_time": "2025-08-10T15:30:22.498599",
     "status": "completed"
    },
    "tags": []
   },
   "outputs": [],
   "source": [
    "# We only include data where super over did not occur\n",
    "df_merge = df_merge[df_merge['super_over']=='N']"
   ]
  },
  {
   "cell_type": "code",
   "execution_count": 25,
   "id": "7f76b36b",
   "metadata": {
    "execution": {
     "iopub.execute_input": "2025-08-10T15:30:22.646938Z",
     "iopub.status.busy": "2025-08-10T15:30:22.646646Z",
     "iopub.status.idle": "2025-08-10T15:30:22.746735Z",
     "shell.execute_reply": "2025-08-10T15:30:22.745895Z"
    },
    "papermill": {
     "duration": 0.113636,
     "end_time": "2025-08-10T15:30:22.748712",
     "exception": false,
     "start_time": "2025-08-10T15:30:22.635076",
     "status": "completed"
    },
    "tags": []
   },
   "outputs": [],
   "source": [
    "# We only include data where the result is not based on the D/L method\n",
    "df_merge = df_merge[df_merge['method']!='D/L']"
   ]
  },
  {
   "cell_type": "code",
   "execution_count": 26,
   "id": "d372980f",
   "metadata": {
    "execution": {
     "iopub.execute_input": "2025-08-10T15:30:22.773495Z",
     "iopub.status.busy": "2025-08-10T15:30:22.772898Z",
     "iopub.status.idle": "2025-08-10T15:30:22.790659Z",
     "shell.execute_reply": "2025-08-10T15:30:22.789671Z"
    },
    "papermill": {
     "duration": 0.032232,
     "end_time": "2025-08-10T15:30:22.792494",
     "exception": false,
     "start_time": "2025-08-10T15:30:22.760262",
     "status": "completed"
    },
    "tags": []
   },
   "outputs": [
    {
     "data": {
      "text/plain": [
       "array(['Bangalore', 'Chandigarh', 'Delhi', 'Mumbai', 'Kolkata', 'Jaipur',\n",
       "       'Hyderabad', 'Chennai', 'Cape Town', 'Port Elizabeth', 'Durban',\n",
       "       'Centurion', 'East London', 'Johannesburg', 'Kimberley',\n",
       "       'Bloemfontein', 'Ahmedabad', 'Cuttack', 'Nagpur', 'Dharamsala',\n",
       "       'Visakhapatnam', 'Pune', 'Raipur', 'Ranchi', 'Abu Dhabi',\n",
       "       'Sharjah', 'Dubai', 'Rajkot', 'Kanpur', 'Indore', 'Bengaluru',\n",
       "       'Navi Mumbai', 'Lucknow', 'Guwahati', 'Mohali'], dtype=object)"
      ]
     },
     "execution_count": 26,
     "metadata": {},
     "output_type": "execute_result"
    }
   ],
   "source": [
    "df_merge['city'].unique()"
   ]
  },
  {
   "cell_type": "code",
   "execution_count": 27,
   "id": "96ccf6d3",
   "metadata": {
    "execution": {
     "iopub.execute_input": "2025-08-10T15:30:22.817768Z",
     "iopub.status.busy": "2025-08-10T15:30:22.817454Z",
     "iopub.status.idle": "2025-08-10T15:30:22.823686Z",
     "shell.execute_reply": "2025-08-10T15:30:22.822428Z"
    },
    "papermill": {
     "duration": 0.02278,
     "end_time": "2025-08-10T15:30:22.826170",
     "exception": false,
     "start_time": "2025-08-10T15:30:22.803390",
     "status": "completed"
    },
    "tags": []
   },
   "outputs": [],
   "source": [
    "host_cities = ['Bangalore', 'Chandigarh', 'Delhi', 'Mumbai', 'Kolkata', 'Jaipur',\n",
    "       'Hyderabad', 'Chennai', 'Ahmedabad', 'Cuttack', 'Nagpur', 'Dharamsala',\n",
    "       'Visakhapatnam', 'Pune', 'Raipur', 'Ranchi', 'Abu Dhabi',\n",
    "       'Rajkot', 'Kanpur', 'Indore', 'Bengaluru', 'Dubai', 'Sharjah',\n",
    "       'Navi Mumbai', 'Lucknow', 'Guwahati', 'Mohali']"
   ]
  },
  {
   "cell_type": "code",
   "execution_count": 28,
   "id": "3ca57c5c",
   "metadata": {
    "execution": {
     "iopub.execute_input": "2025-08-10T15:30:22.854661Z",
     "iopub.status.busy": "2025-08-10T15:30:22.853618Z",
     "iopub.status.idle": "2025-08-10T15:30:22.863464Z",
     "shell.execute_reply": "2025-08-10T15:30:22.862418Z"
    },
    "papermill": {
     "duration": 0.025732,
     "end_time": "2025-08-10T15:30:22.865521",
     "exception": false,
     "start_time": "2025-08-10T15:30:22.839789",
     "status": "completed"
    },
    "tags": []
   },
   "outputs": [
    {
     "data": {
      "text/plain": [
       "match_type\n",
       "League                1026\n",
       "Final                   17\n",
       "Qualifier 1             14\n",
       "Qualifier 2             14\n",
       "Eliminator              11\n",
       "Semi Final               6\n",
       "Elimination Final        3\n",
       "3rd Place Play-Off       1\n",
       "Name: count, dtype: int64"
      ]
     },
     "execution_count": 28,
     "metadata": {},
     "output_type": "execute_result"
    }
   ],
   "source": [
    "df_matches['match_type'].value_counts()"
   ]
  },
  {
   "cell_type": "code",
   "execution_count": 29,
   "id": "c57764ca",
   "metadata": {
    "execution": {
     "iopub.execute_input": "2025-08-10T15:30:22.891071Z",
     "iopub.status.busy": "2025-08-10T15:30:22.890684Z",
     "iopub.status.idle": "2025-08-10T15:30:22.895539Z",
     "shell.execute_reply": "2025-08-10T15:30:22.894309Z"
    },
    "papermill": {
     "duration": 0.019223,
     "end_time": "2025-08-10T15:30:22.897107",
     "exception": false,
     "start_time": "2025-08-10T15:30:22.877884",
     "status": "completed"
    },
    "tags": []
   },
   "outputs": [],
   "source": [
    "match_type = ['League','Eliminator','Qualifier 1','Qualifier 2','Final']"
   ]
  },
  {
   "cell_type": "code",
   "execution_count": 30,
   "id": "bb52cc7b",
   "metadata": {
    "execution": {
     "iopub.execute_input": "2025-08-10T15:30:22.920661Z",
     "iopub.status.busy": "2025-08-10T15:30:22.920387Z",
     "iopub.status.idle": "2025-08-10T15:30:24.379340Z",
     "shell.execute_reply": "2025-08-10T15:30:24.378252Z"
    },
    "papermill": {
     "duration": 1.473125,
     "end_time": "2025-08-10T15:30:24.381219",
     "exception": false,
     "start_time": "2025-08-10T15:30:22.908094",
     "status": "completed"
    },
    "tags": []
   },
   "outputs": [],
   "source": [
    "# is_ball_faced => If the ball is not wide, the batsman must have faced that ball.\n",
    "df_merge['is_ball_faced'] = df_merge[['match_id','inning','batter','extras_type']].apply(lambda row:1 if row['extras_type']!='wides' else 0, axis=1)\n",
    "\n",
    "# batter_balls_faced => The balls played by the batsman up to this ball\n",
    "df_merge['batter_balls_faced'] = df_merge[['match_id','inning','batter','is_ball_faced']].groupby(['match_id','inning','batter']).cumsum()"
   ]
  },
  {
   "cell_type": "code",
   "execution_count": 31,
   "id": "e91de616",
   "metadata": {
    "execution": {
     "iopub.execute_input": "2025-08-10T15:30:24.404598Z",
     "iopub.status.busy": "2025-08-10T15:30:24.404315Z",
     "iopub.status.idle": "2025-08-10T15:30:27.305587Z",
     "shell.execute_reply": "2025-08-10T15:30:27.304667Z"
    },
    "papermill": {
     "duration": 2.914857,
     "end_time": "2025-08-10T15:30:27.307362",
     "exception": false,
     "start_time": "2025-08-10T15:30:24.392505",
     "status": "completed"
    },
    "tags": []
   },
   "outputs": [],
   "source": [
    "# batter_total_runs => The runs scored by the batsman up to this ball\n",
    "df_merge['batter_total_runs'] = df_merge[['match_id','inning','batter','batsman_runs']].groupby(['match_id','inning','batter']).cumsum()\n",
    "\n",
    "# batter_strikerate => (runs*100/balls)\n",
    "df_merge['batter_strikerate'] = df_merge.apply(lambda row: round(row['batter_total_runs']*100/row['batter_balls_faced'],2) if row['batter_balls_faced']>0 else 0.0, axis=1)"
   ]
  },
  {
   "cell_type": "code",
   "execution_count": 32,
   "id": "0d8e716f",
   "metadata": {
    "execution": {
     "iopub.execute_input": "2025-08-10T15:30:27.331938Z",
     "iopub.status.busy": "2025-08-10T15:30:27.331125Z",
     "iopub.status.idle": "2025-08-10T15:30:29.135674Z",
     "shell.execute_reply": "2025-08-10T15:30:29.134858Z"
    },
    "papermill": {
     "duration": 1.818918,
     "end_time": "2025-08-10T15:30:29.137442",
     "exception": false,
     "start_time": "2025-08-10T15:30:27.318524",
     "status": "completed"
    },
    "tags": []
   },
   "outputs": [],
   "source": [
    "# valid_ball => ball is valid if it is not 'wide' or 'noball'\n",
    "df_merge['valid_ball'] = df_merge[['match_id','inning','batter','extras_type']].apply(lambda row:1 if (row['extras_type']!='wides' and row['extras_type']!='noballs') else 0, axis=1)\n",
    "\n",
    "# total_valid_balls => total valid_ball bowled upto this ball\n",
    "df_merge['total_valid_balls'] = df_merge[['match_id','inning','valid_ball']].groupby(['match_id','inning']).cumsum()"
   ]
  },
  {
   "cell_type": "code",
   "execution_count": 33,
   "id": "e3bf6081",
   "metadata": {
    "execution": {
     "iopub.execute_input": "2025-08-10T15:30:29.160187Z",
     "iopub.status.busy": "2025-08-10T15:30:29.159813Z",
     "iopub.status.idle": "2025-08-10T15:30:29.202419Z",
     "shell.execute_reply": "2025-08-10T15:30:29.201397Z"
    },
    "papermill": {
     "duration": 0.05598,
     "end_time": "2025-08-10T15:30:29.204125",
     "exception": false,
     "start_time": "2025-08-10T15:30:29.148145",
     "status": "completed"
    },
    "tags": []
   },
   "outputs": [],
   "source": [
    "# remainning_balls => number of balls remaining from the target over\n",
    "df_merge['remaining_balls'] = df_merge['target_overs']*6-df_merge['total_valid_balls']"
   ]
  },
  {
   "cell_type": "code",
   "execution_count": 34,
   "id": "bf60345d",
   "metadata": {
    "execution": {
     "iopub.execute_input": "2025-08-10T15:30:29.229776Z",
     "iopub.status.busy": "2025-08-10T15:30:29.229469Z",
     "iopub.status.idle": "2025-08-10T15:30:29.250935Z",
     "shell.execute_reply": "2025-08-10T15:30:29.249916Z"
    },
    "papermill": {
     "duration": 0.035552,
     "end_time": "2025-08-10T15:30:29.252686",
     "exception": false,
     "start_time": "2025-08-10T15:30:29.217134",
     "status": "completed"
    },
    "tags": []
   },
   "outputs": [],
   "source": [
    "# current_score => current score of the team\n",
    "df_merge['current_score'] = df_merge[['match_id','inning','total_runs']].groupby(['match_id','inning']).cumsum()"
   ]
  },
  {
   "cell_type": "code",
   "execution_count": 35,
   "id": "e597dc85",
   "metadata": {
    "execution": {
     "iopub.execute_input": "2025-08-10T15:30:29.277128Z",
     "iopub.status.busy": "2025-08-10T15:30:29.276173Z",
     "iopub.status.idle": "2025-08-10T15:30:29.283121Z",
     "shell.execute_reply": "2025-08-10T15:30:29.282050Z"
    },
    "papermill": {
     "duration": 0.02043,
     "end_time": "2025-08-10T15:30:29.284763",
     "exception": false,
     "start_time": "2025-08-10T15:30:29.264333",
     "status": "completed"
    },
    "tags": []
   },
   "outputs": [],
   "source": [
    "# remainning_balls => number of runs remaining from the target runs\n",
    "df_merge['remaining_runs'] = df_merge['target_runs']-df_merge['current_score']"
   ]
  },
  {
   "cell_type": "code",
   "execution_count": 36,
   "id": "b6119dba",
   "metadata": {
    "execution": {
     "iopub.execute_input": "2025-08-10T15:30:29.307848Z",
     "iopub.status.busy": "2025-08-10T15:30:29.307559Z",
     "iopub.status.idle": "2025-08-10T15:30:29.327974Z",
     "shell.execute_reply": "2025-08-10T15:30:29.326806Z"
    },
    "papermill": {
     "duration": 0.033904,
     "end_time": "2025-08-10T15:30:29.329649",
     "exception": false,
     "start_time": "2025-08-10T15:30:29.295745",
     "status": "completed"
    },
    "tags": []
   },
   "outputs": [],
   "source": [
    "# How many wickets lost so far?\n",
    "df_merge['wickets'] = df_merge[['match_id','inning','is_wicket']].groupby(['match_id','inning']).cumsum()"
   ]
  },
  {
   "cell_type": "code",
   "execution_count": 37,
   "id": "6e6ad225",
   "metadata": {
    "execution": {
     "iopub.execute_input": "2025-08-10T15:30:29.353627Z",
     "iopub.status.busy": "2025-08-10T15:30:29.353285Z",
     "iopub.status.idle": "2025-08-10T15:30:32.197340Z",
     "shell.execute_reply": "2025-08-10T15:30:32.196278Z"
    },
    "papermill": {
     "duration": 2.858611,
     "end_time": "2025-08-10T15:30:32.200048",
     "exception": false,
     "start_time": "2025-08-10T15:30:29.341437",
     "status": "completed"
    },
    "tags": []
   },
   "outputs": [],
   "source": [
    "# crr (current run rate) =>  current_score/total_valid_balls\n",
    "df_merge['crr'] = df_merge.apply(lambda row: round(row['current_score']/row['total_valid_balls']*6,2) if row['total_valid_balls']>0 else 0.0, axis=1)"
   ]
  },
  {
   "cell_type": "code",
   "execution_count": 38,
   "id": "ddfb47f7",
   "metadata": {
    "execution": {
     "iopub.execute_input": "2025-08-10T15:30:32.224922Z",
     "iopub.status.busy": "2025-08-10T15:30:32.224604Z",
     "iopub.status.idle": "2025-08-10T15:30:35.113627Z",
     "shell.execute_reply": "2025-08-10T15:30:35.112659Z"
    },
    "papermill": {
     "duration": 2.904352,
     "end_time": "2025-08-10T15:30:35.115350",
     "exception": false,
     "start_time": "2025-08-10T15:30:32.210998",
     "status": "completed"
    },
    "tags": []
   },
   "outputs": [],
   "source": [
    "# rrr (require run rate) =>  remaining_runs/remaining_balls\n",
    "df_merge['rrr'] = df_merge.apply(lambda row: round(row['remaining_runs']/row['remaining_balls']*6,2) if row['remaining_balls']>0 else 0.0, axis=1)"
   ]
  },
  {
   "cell_type": "code",
   "execution_count": 39,
   "id": "dcf810be",
   "metadata": {
    "execution": {
     "iopub.execute_input": "2025-08-10T15:30:35.141939Z",
     "iopub.status.busy": "2025-08-10T15:30:35.141633Z",
     "iopub.status.idle": "2025-08-10T15:30:59.855804Z",
     "shell.execute_reply": "2025-08-10T15:30:59.854978Z"
    },
    "papermill": {
     "duration": 24.729182,
     "end_time": "2025-08-10T15:30:59.857506",
     "exception": false,
     "start_time": "2025-08-10T15:30:35.128324",
     "status": "completed"
    },
    "tags": []
   },
   "outputs": [],
   "source": [
    "# compute non-striker's data\n",
    "\n",
    "# Create a dictionary to store non-striker stats\n",
    "non_striker_dict = {}\n",
    "\n",
    "# Initialize columns in the DataFrame\n",
    "df_merge['non_striker_balls_faced'] = 0\n",
    "df_merge['non_striker_runs'] = 0\n",
    "\n",
    "# Iterate through each match and inning\n",
    "for (match_id, inning), group in df_merge.groupby(['match_id', 'inning']):\n",
    "    batter_stats = {}\n",
    "    \n",
    "    for idx, row in group.iterrows():\n",
    "        batter = row['batter']\n",
    "        non_striker = row['non_striker']\n",
    "        \n",
    "        # Update current batter's stats\n",
    "        batter_stats[batter] = {'balls': row['batter_balls_faced'], 'runs': row['batter_total_runs']}\n",
    "        \n",
    "        # Set non-striker stats for this row\n",
    "        if non_striker not in batter_stats:\n",
    "            batter_stats[batter] = {'balls': row['batter_balls_faced'], 'runs': row['batter_total_runs']}\n",
    "\n",
    "        if non_striker in batter_stats:\n",
    "            df_merge.at[idx, 'non_striker_balls_faced'] = batter_stats[non_striker]['balls']\n",
    "            df_merge.at[idx, 'non_striker_runs'] = batter_stats[non_striker]['runs']"
   ]
  },
  {
   "cell_type": "code",
   "execution_count": 40,
   "id": "b61bfe72",
   "metadata": {
    "execution": {
     "iopub.execute_input": "2025-08-10T15:30:59.880733Z",
     "iopub.status.busy": "2025-08-10T15:30:59.879943Z",
     "iopub.status.idle": "2025-08-10T15:31:02.645836Z",
     "shell.execute_reply": "2025-08-10T15:31:02.644900Z"
    },
    "papermill": {
     "duration": 2.779441,
     "end_time": "2025-08-10T15:31:02.647816",
     "exception": false,
     "start_time": "2025-08-10T15:30:59.868375",
     "status": "completed"
    },
    "tags": []
   },
   "outputs": [],
   "source": [
    "df_merge['non_striker_strikerate'] = df_merge.apply(lambda row: round(row['non_striker_runs']*100/row['non_striker_balls_faced'],2) if row['non_striker_balls_faced']>0 else 0.0, axis=1)"
   ]
  },
  {
   "cell_type": "code",
   "execution_count": 41,
   "id": "5cf48131",
   "metadata": {
    "execution": {
     "iopub.execute_input": "2025-08-10T15:31:02.672137Z",
     "iopub.status.busy": "2025-08-10T15:31:02.671775Z",
     "iopub.status.idle": "2025-08-10T15:31:04.819612Z",
     "shell.execute_reply": "2025-08-10T15:31:04.818668Z"
    },
    "papermill": {
     "duration": 2.162452,
     "end_time": "2025-08-10T15:31:04.821296",
     "exception": false,
     "start_time": "2025-08-10T15:31:02.658844",
     "status": "completed"
    },
    "tags": []
   },
   "outputs": [],
   "source": [
    "# batting_team_win => Does batting team win?\n",
    "df_merge['batting_team_win'] = df_merge.apply(lambda row: 1 if row['winner']==row['batting_team'] else 0,axis=1)"
   ]
  },
  {
   "cell_type": "code",
   "execution_count": 42,
   "id": "2871c50f",
   "metadata": {
    "execution": {
     "iopub.execute_input": "2025-08-10T15:31:04.844985Z",
     "iopub.status.busy": "2025-08-10T15:31:04.844605Z",
     "iopub.status.idle": "2025-08-10T15:31:04.851082Z",
     "shell.execute_reply": "2025-08-10T15:31:04.850005Z"
    },
    "papermill": {
     "duration": 0.019932,
     "end_time": "2025-08-10T15:31:04.852763",
     "exception": false,
     "start_time": "2025-08-10T15:31:04.832831",
     "status": "completed"
    },
    "tags": []
   },
   "outputs": [
    {
     "data": {
      "text/plain": [
       "Index(['match_id', 'season', 'city', 'date', 'match_type', 'player_of_match',\n",
       "       'venue', 'team1', 'team2', 'toss_winner', 'toss_decision', 'winner',\n",
       "       'result', 'result_margin', 'target_runs', 'target_overs', 'super_over',\n",
       "       'method', 'umpire1', 'umpire2', 'inning', 'batting_team',\n",
       "       'bowling_team', 'over', 'ball', 'batter', 'bowler', 'non_striker',\n",
       "       'batsman_runs', 'extra_runs', 'total_runs', 'extras_type', 'is_wicket',\n",
       "       'player_dismissed', 'dismissal_kind', 'fielder', 'is_ball_faced',\n",
       "       'batter_balls_faced', 'batter_total_runs', 'batter_strikerate',\n",
       "       'valid_ball', 'total_valid_balls', 'remaining_balls', 'current_score',\n",
       "       'remaining_runs', 'wickets', 'crr', 'rrr', 'non_striker_balls_faced',\n",
       "       'non_striker_runs', 'non_striker_strikerate', 'batting_team_win'],\n",
       "      dtype='object')"
      ]
     },
     "execution_count": 42,
     "metadata": {},
     "output_type": "execute_result"
    }
   ],
   "source": [
    "df_merge.keys()"
   ]
  },
  {
   "cell_type": "code",
   "execution_count": 43,
   "id": "56fac45f",
   "metadata": {
    "execution": {
     "iopub.execute_input": "2025-08-10T15:31:04.877702Z",
     "iopub.status.busy": "2025-08-10T15:31:04.877393Z",
     "iopub.status.idle": "2025-08-10T15:31:04.951684Z",
     "shell.execute_reply": "2025-08-10T15:31:04.950416Z"
    },
    "papermill": {
     "duration": 0.088759,
     "end_time": "2025-08-10T15:31:04.953504",
     "exception": false,
     "start_time": "2025-08-10T15:31:04.864745",
     "status": "completed"
    },
    "tags": []
   },
   "outputs": [
    {
     "data": {
      "text/html": [
       "<div>\n",
       "<style scoped>\n",
       "    .dataframe tbody tr th:only-of-type {\n",
       "        vertical-align: middle;\n",
       "    }\n",
       "\n",
       "    .dataframe tbody tr th {\n",
       "        vertical-align: top;\n",
       "    }\n",
       "\n",
       "    .dataframe thead th {\n",
       "        text-align: right;\n",
       "    }\n",
       "</style>\n",
       "<table border=\"1\" class=\"dataframe\">\n",
       "  <thead>\n",
       "    <tr style=\"text-align: right;\">\n",
       "      <th></th>\n",
       "      <th>city</th>\n",
       "      <th>match_type</th>\n",
       "      <th>target_runs</th>\n",
       "      <th>batting_team</th>\n",
       "      <th>bowling_team</th>\n",
       "      <th>current_score</th>\n",
       "      <th>wickets</th>\n",
       "      <th>crr</th>\n",
       "      <th>rrr</th>\n",
       "      <th>batter_total_runs</th>\n",
       "      <th>batter_strikerate</th>\n",
       "      <th>non_striker_runs</th>\n",
       "      <th>non_striker_strikerate</th>\n",
       "      <th>batting_team_win</th>\n",
       "    </tr>\n",
       "  </thead>\n",
       "  <tbody>\n",
       "    <tr>\n",
       "      <th>0</th>\n",
       "      <td>Bangalore</td>\n",
       "      <td>League</td>\n",
       "      <td>223.0</td>\n",
       "      <td>Kolkata Knight Riders</td>\n",
       "      <td>Royal Challengers Bengaluru</td>\n",
       "      <td>1</td>\n",
       "      <td>0</td>\n",
       "      <td>6.0</td>\n",
       "      <td>11.19</td>\n",
       "      <td>0</td>\n",
       "      <td>0.0</td>\n",
       "      <td>0</td>\n",
       "      <td>0.0</td>\n",
       "      <td>1</td>\n",
       "    </tr>\n",
       "    <tr>\n",
       "      <th>1</th>\n",
       "      <td>Bangalore</td>\n",
       "      <td>League</td>\n",
       "      <td>223.0</td>\n",
       "      <td>Kolkata Knight Riders</td>\n",
       "      <td>Royal Challengers Bengaluru</td>\n",
       "      <td>1</td>\n",
       "      <td>0</td>\n",
       "      <td>3.0</td>\n",
       "      <td>11.29</td>\n",
       "      <td>0</td>\n",
       "      <td>0.0</td>\n",
       "      <td>0</td>\n",
       "      <td>0.0</td>\n",
       "      <td>1</td>\n",
       "    </tr>\n",
       "    <tr>\n",
       "      <th>2</th>\n",
       "      <td>Bangalore</td>\n",
       "      <td>League</td>\n",
       "      <td>223.0</td>\n",
       "      <td>Kolkata Knight Riders</td>\n",
       "      <td>Royal Challengers Bengaluru</td>\n",
       "      <td>2</td>\n",
       "      <td>0</td>\n",
       "      <td>6.0</td>\n",
       "      <td>11.24</td>\n",
       "      <td>0</td>\n",
       "      <td>0.0</td>\n",
       "      <td>0</td>\n",
       "      <td>0.0</td>\n",
       "      <td>1</td>\n",
       "    </tr>\n",
       "    <tr>\n",
       "      <th>3</th>\n",
       "      <td>Bangalore</td>\n",
       "      <td>League</td>\n",
       "      <td>223.0</td>\n",
       "      <td>Kolkata Knight Riders</td>\n",
       "      <td>Royal Challengers Bengaluru</td>\n",
       "      <td>2</td>\n",
       "      <td>0</td>\n",
       "      <td>4.0</td>\n",
       "      <td>11.33</td>\n",
       "      <td>0</td>\n",
       "      <td>0.0</td>\n",
       "      <td>0</td>\n",
       "      <td>0.0</td>\n",
       "      <td>1</td>\n",
       "    </tr>\n",
       "    <tr>\n",
       "      <th>4</th>\n",
       "      <td>Bangalore</td>\n",
       "      <td>League</td>\n",
       "      <td>223.0</td>\n",
       "      <td>Kolkata Knight Riders</td>\n",
       "      <td>Royal Challengers Bengaluru</td>\n",
       "      <td>2</td>\n",
       "      <td>0</td>\n",
       "      <td>3.0</td>\n",
       "      <td>11.43</td>\n",
       "      <td>0</td>\n",
       "      <td>0.0</td>\n",
       "      <td>0</td>\n",
       "      <td>0.0</td>\n",
       "      <td>1</td>\n",
       "    </tr>\n",
       "  </tbody>\n",
       "</table>\n",
       "</div>"
      ],
      "text/plain": [
       "        city match_type  target_runs           batting_team  \\\n",
       "0  Bangalore     League        223.0  Kolkata Knight Riders   \n",
       "1  Bangalore     League        223.0  Kolkata Knight Riders   \n",
       "2  Bangalore     League        223.0  Kolkata Knight Riders   \n",
       "3  Bangalore     League        223.0  Kolkata Knight Riders   \n",
       "4  Bangalore     League        223.0  Kolkata Knight Riders   \n",
       "\n",
       "                  bowling_team  current_score  wickets  crr    rrr  \\\n",
       "0  Royal Challengers Bengaluru              1        0  6.0  11.19   \n",
       "1  Royal Challengers Bengaluru              1        0  3.0  11.29   \n",
       "2  Royal Challengers Bengaluru              2        0  6.0  11.24   \n",
       "3  Royal Challengers Bengaluru              2        0  4.0  11.33   \n",
       "4  Royal Challengers Bengaluru              2        0  3.0  11.43   \n",
       "\n",
       "   batter_total_runs  batter_strikerate  non_striker_runs  \\\n",
       "0                  0                0.0                 0   \n",
       "1                  0                0.0                 0   \n",
       "2                  0                0.0                 0   \n",
       "3                  0                0.0                 0   \n",
       "4                  0                0.0                 0   \n",
       "\n",
       "   non_striker_strikerate  batting_team_win  \n",
       "0                     0.0                 1  \n",
       "1                     0.0                 1  \n",
       "2                     0.0                 1  \n",
       "3                     0.0                 1  \n",
       "4                     0.0                 1  "
      ]
     },
     "execution_count": 43,
     "metadata": {},
     "output_type": "execute_result"
    }
   ],
   "source": [
    "df_final = df_merge[['city','match_type','target_runs','batting_team','bowling_team','current_score','wickets','crr','rrr','batter_total_runs',\n",
    "          'batter_strikerate','non_striker_runs','non_striker_strikerate','batting_team_win']].copy()\n",
    "df_final.head()"
   ]
  },
  {
   "cell_type": "code",
   "execution_count": 44,
   "id": "17a99ece",
   "metadata": {
    "execution": {
     "iopub.execute_input": "2025-08-10T15:31:04.981113Z",
     "iopub.status.busy": "2025-08-10T15:31:04.980749Z",
     "iopub.status.idle": "2025-08-10T15:31:05.045577Z",
     "shell.execute_reply": "2025-08-10T15:31:05.044332Z"
    },
    "papermill": {
     "duration": 0.082244,
     "end_time": "2025-08-10T15:31:05.047282",
     "exception": false,
     "start_time": "2025-08-10T15:31:04.965038",
     "status": "completed"
    },
    "tags": []
   },
   "outputs": [
    {
     "data": {
      "text/plain": [
       "city                      0\n",
       "match_type                0\n",
       "target_runs               0\n",
       "batting_team              0\n",
       "bowling_team              0\n",
       "current_score             0\n",
       "wickets                   0\n",
       "crr                       0\n",
       "rrr                       0\n",
       "batter_total_runs         0\n",
       "batter_strikerate         0\n",
       "non_striker_runs          0\n",
       "non_striker_strikerate    0\n",
       "batting_team_win          0\n",
       "dtype: int64"
      ]
     },
     "execution_count": 44,
     "metadata": {},
     "output_type": "execute_result"
    }
   ],
   "source": [
    "df_final.isnull().sum()"
   ]
  },
  {
   "cell_type": "code",
   "execution_count": 45,
   "id": "2bb1d05e",
   "metadata": {
    "execution": {
     "iopub.execute_input": "2025-08-10T15:31:05.073055Z",
     "iopub.status.busy": "2025-08-10T15:31:05.072683Z",
     "iopub.status.idle": "2025-08-10T15:31:05.079166Z",
     "shell.execute_reply": "2025-08-10T15:31:05.077940Z"
    },
    "papermill": {
     "duration": 0.021091,
     "end_time": "2025-08-10T15:31:05.080589",
     "exception": false,
     "start_time": "2025-08-10T15:31:05.059498",
     "status": "completed"
    },
    "tags": []
   },
   "outputs": [
    {
     "data": {
      "text/plain": [
       "(250331, 14)"
      ]
     },
     "execution_count": 45,
     "metadata": {},
     "output_type": "execute_result"
    }
   ],
   "source": [
    "df_final.shape"
   ]
  },
  {
   "cell_type": "code",
   "execution_count": 48,
   "id": "4295b530",
   "metadata": {
    "execution": {
     "iopub.execute_input": "2025-08-10T15:31:05.105222Z",
     "iopub.status.busy": "2025-08-10T15:31:05.104796Z",
     "iopub.status.idle": "2025-08-10T15:31:05.873990Z",
     "shell.execute_reply": "2025-08-10T15:31:05.873033Z"
    },
    "papermill": {
     "duration": 0.78477,
     "end_time": "2025-08-10T15:31:05.876750",
     "exception": false,
     "start_time": "2025-08-10T15:31:05.091980",
     "status": "completed"
    },
    "tags": []
   },
   "outputs": [
    {
     "ename": "ModuleNotFoundError",
     "evalue": "No module named 'seaborn'",
     "output_type": "error",
     "traceback": [
      "\u001b[31m---------------------------------------------------------------------------\u001b[39m",
      "\u001b[31mModuleNotFoundError\u001b[39m                       Traceback (most recent call last)",
      "\u001b[36mCell\u001b[39m\u001b[36m \u001b[39m\u001b[32mIn[48]\u001b[39m\u001b[32m, line 1\u001b[39m\n\u001b[32m----> \u001b[39m\u001b[32m1\u001b[39m \u001b[38;5;28;01mimport\u001b[39;00m\u001b[38;5;250m \u001b[39m\u001b[34;01mseaborn\u001b[39;00m\u001b[38;5;250m \u001b[39m\u001b[38;5;28;01mas\u001b[39;00m\u001b[38;5;250m \u001b[39m\u001b[34;01msns\u001b[39;00m\n\u001b[32m      2\u001b[39m corr = df_final.corr(numeric_only=\u001b[38;5;28;01mTrue\u001b[39;00m)\n\u001b[32m      3\u001b[39m sns.heatmap(corr,annot=\u001b[38;5;28;01mTrue\u001b[39;00m,linewidths=\u001b[32m0.1\u001b[39m)\n",
      "\u001b[31mModuleNotFoundError\u001b[39m: No module named 'seaborn'"
     ]
    }
   ],
   "source": [
    "import seaborn as sns\n",
    "corr = df_final.corr(numeric_only=True)\n",
    "sns.heatmap(corr,annot=True,linewidths=0.1)"
   ]
  },
  {
   "cell_type": "code",
   "execution_count": 49,
   "id": "a2d48bab",
   "metadata": {
    "execution": {
     "iopub.execute_input": "2025-08-10T15:31:05.907350Z",
     "iopub.status.busy": "2025-08-10T15:31:05.906815Z",
     "iopub.status.idle": "2025-08-10T15:31:05.913482Z",
     "shell.execute_reply": "2025-08-10T15:31:05.912621Z"
    },
    "papermill": {
     "duration": 0.02401,
     "end_time": "2025-08-10T15:31:05.915535",
     "exception": false,
     "start_time": "2025-08-10T15:31:05.891525",
     "status": "completed"
    },
    "tags": []
   },
   "outputs": [
    {
     "data": {
      "text/plain": [
       "Index(['city', 'match_type', 'target_runs', 'batting_team', 'bowling_team',\n",
       "       'current_score', 'wickets', 'crr', 'rrr', 'batter_total_runs',\n",
       "       'batter_strikerate', 'non_striker_runs', 'non_striker_strikerate',\n",
       "       'batting_team_win'],\n",
       "      dtype='object')"
      ]
     },
     "execution_count": 49,
     "metadata": {},
     "output_type": "execute_result"
    }
   ],
   "source": [
    "df_final.keys()"
   ]
  },
  {
   "cell_type": "code",
   "execution_count": 50,
   "id": "a851551d",
   "metadata": {
    "execution": {
     "iopub.execute_input": "2025-08-10T15:31:05.944253Z",
     "iopub.status.busy": "2025-08-10T15:31:05.943363Z",
     "iopub.status.idle": "2025-08-10T15:31:06.014257Z",
     "shell.execute_reply": "2025-08-10T15:31:06.012892Z"
    },
    "papermill": {
     "duration": 0.08734,
     "end_time": "2025-08-10T15:31:06.016356",
     "exception": false,
     "start_time": "2025-08-10T15:31:05.929016",
     "status": "completed"
    },
    "tags": []
   },
   "outputs": [
    {
     "name": "stdout",
     "output_type": "stream",
     "text": [
      "<class 'pandas.core.frame.DataFrame'>\n",
      "Index: 250331 entries, 0 to 260610\n",
      "Data columns (total 14 columns):\n",
      " #   Column                  Non-Null Count   Dtype  \n",
      "---  ------                  --------------   -----  \n",
      " 0   city                    250331 non-null  object \n",
      " 1   match_type              250331 non-null  object \n",
      " 2   target_runs             250331 non-null  float64\n",
      " 3   batting_team            250331 non-null  object \n",
      " 4   bowling_team            250331 non-null  object \n",
      " 5   current_score           250331 non-null  int64  \n",
      " 6   wickets                 250331 non-null  int64  \n",
      " 7   crr                     250331 non-null  float64\n",
      " 8   rrr                     250331 non-null  float64\n",
      " 9   batter_total_runs       250331 non-null  int64  \n",
      " 10  batter_strikerate       250331 non-null  float64\n",
      " 11  non_striker_runs        250331 non-null  int64  \n",
      " 12  non_striker_strikerate  250331 non-null  float64\n",
      " 13  batting_team_win        250331 non-null  int64  \n",
      "dtypes: float64(5), int64(5), object(4)\n",
      "memory usage: 36.7+ MB\n"
     ]
    }
   ],
   "source": [
    "df_final.info()"
   ]
  },
  {
   "cell_type": "code",
   "execution_count": 54,
   "id": "db7212f6",
   "metadata": {},
   "outputs": [],
   "source": [
    "df_final.to_csv(\"output.csv\", index=False)\n"
   ]
  },
  {
   "cell_type": "code",
   "execution_count": 55,
   "id": "37249fb8",
   "metadata": {},
   "outputs": [
    {
     "data": {
      "text/plain": [
       "Index(['city', 'match_type', 'target_runs', 'batting_team', 'bowling_team',\n",
       "       'current_score', 'wickets', 'crr', 'rrr', 'batter_total_runs',\n",
       "       'batter_strikerate', 'non_striker_runs', 'non_striker_strikerate',\n",
       "       'batting_team_win'],\n",
       "      dtype='object')"
      ]
     },
     "execution_count": 55,
     "metadata": {},
     "output_type": "execute_result"
    }
   ],
   "source": [
    "df_final.columns"
   ]
  },
  {
   "cell_type": "code",
   "execution_count": 42,
   "id": "0fe27b7d",
   "metadata": {
    "execution": {
     "iopub.execute_input": "2025-08-10T15:31:06.045436Z",
     "iopub.status.busy": "2025-08-10T15:31:06.045134Z",
     "iopub.status.idle": "2025-08-10T15:31:06.108267Z",
     "shell.execute_reply": "2025-08-10T15:31:06.107041Z"
    },
    "papermill": {
     "duration": 0.080263,
     "end_time": "2025-08-10T15:31:06.110312",
     "exception": false,
     "start_time": "2025-08-10T15:31:06.030049",
     "status": "completed"
    },
    "tags": []
   },
   "outputs": [],
   "source": [
    "df_final = df_final.sample(frac=1, random_state=42).reset_index(drop=True)"
   ]
  },
  {
   "cell_type": "markdown",
   "id": "e1043106",
   "metadata": {
    "papermill": {
     "duration": 0.013791,
     "end_time": "2025-08-10T15:31:06.139292",
     "exception": false,
     "start_time": "2025-08-10T15:31:06.125501",
     "status": "completed"
    },
    "tags": []
   },
   "source": [
    "<h1>Random Forest Classifier</h1>"
   ]
  },
  {
   "cell_type": "code",
   "execution_count": 43,
   "id": "24052670",
   "metadata": {
    "execution": {
     "iopub.execute_input": "2025-08-10T15:31:06.168293Z",
     "iopub.status.busy": "2025-08-10T15:31:06.167982Z",
     "iopub.status.idle": "2025-08-10T15:33:44.920062Z",
     "shell.execute_reply": "2025-08-10T15:33:44.919026Z"
    },
    "papermill": {
     "duration": 158.78206,
     "end_time": "2025-08-10T15:33:44.934766",
     "exception": false,
     "start_time": "2025-08-10T15:31:06.152706",
     "status": "completed"
    },
    "tags": []
   },
   "outputs": [
    {
     "name": "stdout",
     "output_type": "stream",
     "text": [
      "Accuracy: 0.9791\n"
     ]
    }
   ],
   "source": [
    "from sklearn.pipeline import Pipeline\n",
    "from sklearn.compose import ColumnTransformer\n",
    "from sklearn.preprocessing import OneHotEncoder, StandardScaler\n",
    "from sklearn.ensemble import RandomForestClassifier\n",
    "from sklearn.model_selection import train_test_split\n",
    "\n",
    "# Define features and target\n",
    "X = df_final.drop(\"batting_team_win\", axis=1)\n",
    "y = df_final[\"batting_team_win\"]\n",
    "\n",
    "# Identify column types\n",
    "categorical_cols = [\"city\", \"match_type\", \"batting_team\", \"bowling_team\"]\n",
    "numerical_cols = [\"target_runs\", \"current_score\", \"wickets\", \"crr\", \"rrr\",\n",
    "                  \"batter_total_runs\", \"batter_strikerate\",\n",
    "                  \"non_striker_runs\", \"non_striker_strikerate\"]\n",
    "\n",
    "# Preprocessor for numerical and categorical\n",
    "preprocessor = ColumnTransformer([\n",
    "    (\"num\", StandardScaler(), numerical_cols),\n",
    "    (\"cat\", OneHotEncoder(handle_unknown='ignore'), categorical_cols)\n",
    "])\n",
    "\n",
    "# Final pipeline\n",
    "pipeline = Pipeline([\n",
    "    (\"preprocess\", preprocessor),\n",
    "    (\"classifier\", RandomForestClassifier(n_estimators=50,max_depth=25,random_state=42)\n",
    ")\n",
    "])\n",
    "\n",
    "# Train-test split\n",
    "X_train, X_test, y_train, y_test = train_test_split(X, y, test_size=0.2, stratify=y, random_state=42)\n",
    "\n",
    "# Fit the model\n",
    "pipeline.fit(X_train, y_train)\n",
    "\n",
    "# Evaluate\n",
    "accuracy = pipeline.score(X_test, y_test)\n",
    "print(f\"Accuracy: {accuracy:.4f}\")"
   ]
  },
  {
   "cell_type": "code",
   "execution_count": 44,
   "id": "2f9dfa65",
   "metadata": {
    "execution": {
     "iopub.execute_input": "2025-08-10T15:33:44.963824Z",
     "iopub.status.busy": "2025-08-10T15:33:44.963326Z",
     "iopub.status.idle": "2025-08-10T15:33:44.969664Z",
     "shell.execute_reply": "2025-08-10T15:33:44.968812Z"
    },
    "papermill": {
     "duration": 0.022814,
     "end_time": "2025-08-10T15:33:44.971270",
     "exception": false,
     "start_time": "2025-08-10T15:33:44.948456",
     "status": "completed"
    },
    "tags": []
   },
   "outputs": [],
   "source": [
    "sample = pd.DataFrame([{\n",
    "    'city': 'Mumbai',\n",
    "    'match_type': 'League',\n",
    "    'target_runs': 180,\n",
    "    'batting_team': 'Mumbai Indians',\n",
    "    'bowling_team': 'Chennai Super Kings',\n",
    "    'current_score': 108,\n",
    "    'wickets': 3,\n",
    "    'crr': 9.0,\n",
    "    'rrr': 9.0,\n",
    "    'batter_total_runs': 50,\n",
    "    'batter_strikerate': 200.0,\n",
    "    'non_striker_runs': 15,\n",
    "    'non_striker_strikerate': 150.0\n",
    "}])"
   ]
  },
  {
   "cell_type": "code",
   "execution_count": 45,
   "id": "36a91c26",
   "metadata": {
    "execution": {
     "iopub.execute_input": "2025-08-10T15:33:44.999544Z",
     "iopub.status.busy": "2025-08-10T15:33:44.999222Z",
     "iopub.status.idle": "2025-08-10T15:33:45.026587Z",
     "shell.execute_reply": "2025-08-10T15:33:45.025642Z"
    },
    "papermill": {
     "duration": 0.043321,
     "end_time": "2025-08-10T15:33:45.028140",
     "exception": false,
     "start_time": "2025-08-10T15:33:44.984819",
     "status": "completed"
    },
    "tags": []
   },
   "outputs": [
    {
     "name": "stdout",
     "output_type": "stream",
     "text": [
      "Mumbai Indians: 56.87%\n",
      "Chennai Super Kings: 43.13%\n"
     ]
    }
   ],
   "source": [
    "# Predict win probability\n",
    "print(f\"{sample['batting_team'][0]}: {pipeline.predict_proba(sample)[0][1]:.2%}\")\n",
    "print(f\"{sample['bowling_team'][0]}: {pipeline.predict_proba(sample)[0][0]:.2%}\")"
   ]
  },
  {
   "cell_type": "code",
   "execution_count": 46,
   "id": "8e951a68",
   "metadata": {
    "execution": {
     "iopub.execute_input": "2025-08-10T15:33:45.056923Z",
     "iopub.status.busy": "2025-08-10T15:33:45.056596Z",
     "iopub.status.idle": "2025-08-10T15:33:45.069261Z",
     "shell.execute_reply": "2025-08-10T15:33:45.068219Z"
    },
    "papermill": {
     "duration": 0.029132,
     "end_time": "2025-08-10T15:33:45.070862",
     "exception": false,
     "start_time": "2025-08-10T15:33:45.041730",
     "status": "completed"
    },
    "tags": []
   },
   "outputs": [],
   "source": [
    "def match_progression(x_df,match_id,pipe):\n",
    "    match = x_df[x_df['match_id'] == match_id]\n",
    "    match = match[match['valid_ball']==1]\n",
    "    match = match[(match['total_valid_balls'] % 6)==0]\n",
    "    match = match[match['remaining_balls'] != 0]\n",
    "    temp_df = match[['city','match_type','target_runs','batting_team','bowling_team','current_score','wickets','crr','rrr','batter_total_runs',\n",
    "          'batter_strikerate','non_striker_runs','non_striker_strikerate','batting_team_win']].dropna()\n",
    "    result = pipe.predict_proba(temp_df)\n",
    "    match['lose'] = np.round(result.T[0]*100,1)\n",
    "    match['win'] = np.round(result.T[1]*100,1)\n",
    "\n",
    "    team1 = match[match['inning']==1]['batting_team'].unique()[0]\n",
    "    team2 = match[match['inning']==1]['bowling_team'].unique()[0]\n",
    "    \n",
    "    team1_win = match[match['inning']==1]['win']\n",
    "    match['team1_win'] = np.concatenate((team1_win,match[match['inning']==2]['lose']))\n",
    "    team2_win = match[match['inning']==1]['lose']\n",
    "    match['team2_win'] = np.concatenate((team2_win,match[match['inning']==2]['win']))\n",
    "    \n",
    "    match['end_of_over'] = range(1,match.shape[0]+1)\n",
    "    \n",
    "    target = match['target_runs'].values[0]\n",
    "    match1 = match[match['inning']==1]\n",
    "    \n",
    "    runs = list(match[match['inning']==1]['remaining_runs'].values)\n",
    "    new_runs = runs[:]\n",
    "    runs.insert(0,target)\n",
    "    inning1_runs = np.array(runs)[:-1] - np.array(new_runs)\n",
    "\n",
    "    runs = list(match[match['inning']==2]['remaining_runs'].values)\n",
    "    new_runs = runs[:]\n",
    "    runs.insert(0,target)\n",
    "    inning2_runs = np.array(runs)[:-1] - np.array(new_runs)\n",
    "    np.concatenate((inning1_runs, inning2_runs))   \n",
    "    match['runs_in_over'] = np.concatenate((inning1_runs, inning2_runs))\n",
    "    \n",
    "    wickets = list(match[match['inning']==1]['wickets'].values)\n",
    "    new_wickets = wickets[:]\n",
    "    wickets.insert(0,0)\n",
    "    w = np.array(wickets)[:-1]\n",
    "    nw = np.array(new_wickets)\n",
    "    inning1_wickets = (nw - w)[0:temp_df.shape[0]]\n",
    "\n",
    "    wickets = list(match[match['inning']==2]['wickets'].values)\n",
    "    new_wickets = wickets[:]\n",
    "    wickets.insert(0,0)\n",
    "    w = np.array(wickets)[:-1]\n",
    "    nw = np.array(new_wickets)\n",
    "    inning2_wickets = (nw - w)[0:temp_df.shape[0]]\n",
    "    match['wickets_in_over'] = np.concatenate((inning1_wickets, inning2_wickets))\n",
    "    \n",
    "    print(\"Target-\",target)\n",
    "    match = match[['end_of_over','runs_in_over','wickets_in_over','team1','team2','team1_win','team2_win']]\n",
    "\n",
    "    return match,target,team1,team2"
   ]
  },
  {
   "cell_type": "code",
   "execution_count": 47,
   "id": "f185198d",
   "metadata": {
    "execution": {
     "iopub.execute_input": "2025-08-10T15:33:45.099834Z",
     "iopub.status.busy": "2025-08-10T15:33:45.099507Z",
     "iopub.status.idle": "2025-08-10T15:33:45.144416Z",
     "shell.execute_reply": "2025-08-10T15:33:45.143541Z"
    },
    "papermill": {
     "duration": 0.061173,
     "end_time": "2025-08-10T15:33:45.145877",
     "exception": false,
     "start_time": "2025-08-10T15:33:45.084704",
     "status": "completed"
    },
    "tags": []
   },
   "outputs": [
    {
     "name": "stdout",
     "output_type": "stream",
     "text": [
      "Target- 188.0\n"
     ]
    },
    {
     "data": {
      "text/html": [
       "<div>\n",
       "<style scoped>\n",
       "    .dataframe tbody tr th:only-of-type {\n",
       "        vertical-align: middle;\n",
       "    }\n",
       "\n",
       "    .dataframe tbody tr th {\n",
       "        vertical-align: top;\n",
       "    }\n",
       "\n",
       "    .dataframe thead th {\n",
       "        text-align: right;\n",
       "    }\n",
       "</style>\n",
       "<table border=\"1\" class=\"dataframe\">\n",
       "  <thead>\n",
       "    <tr style=\"text-align: right;\">\n",
       "      <th></th>\n",
       "      <th>end_of_over</th>\n",
       "      <th>runs_in_over</th>\n",
       "      <th>wickets_in_over</th>\n",
       "      <th>team1</th>\n",
       "      <th>team2</th>\n",
       "      <th>team1_win</th>\n",
       "      <th>team2_win</th>\n",
       "    </tr>\n",
       "  </thead>\n",
       "  <tbody>\n",
       "    <tr>\n",
       "      <th>258238</th>\n",
       "      <td>1</td>\n",
       "      <td>10.0</td>\n",
       "      <td>0</td>\n",
       "      <td>Royal Challengers Bengaluru</td>\n",
       "      <td>Delhi Capitals</td>\n",
       "      <td>68.8</td>\n",
       "      <td>31.2</td>\n",
       "    </tr>\n",
       "    <tr>\n",
       "      <th>258244</th>\n",
       "      <td>2</td>\n",
       "      <td>13.0</td>\n",
       "      <td>0</td>\n",
       "      <td>Royal Challengers Bengaluru</td>\n",
       "      <td>Delhi Capitals</td>\n",
       "      <td>55.4</td>\n",
       "      <td>44.6</td>\n",
       "    </tr>\n",
       "    <tr>\n",
       "      <th>258250</th>\n",
       "      <td>3</td>\n",
       "      <td>2.0</td>\n",
       "      <td>1</td>\n",
       "      <td>Royal Challengers Bengaluru</td>\n",
       "      <td>Delhi Capitals</td>\n",
       "      <td>57.4</td>\n",
       "      <td>42.6</td>\n",
       "    </tr>\n",
       "    <tr>\n",
       "      <th>258257</th>\n",
       "      <td>4</td>\n",
       "      <td>12.0</td>\n",
       "      <td>1</td>\n",
       "      <td>Royal Challengers Bengaluru</td>\n",
       "      <td>Delhi Capitals</td>\n",
       "      <td>58.5</td>\n",
       "      <td>41.5</td>\n",
       "    </tr>\n",
       "    <tr>\n",
       "      <th>258263</th>\n",
       "      <td>5</td>\n",
       "      <td>14.0</td>\n",
       "      <td>0</td>\n",
       "      <td>Royal Challengers Bengaluru</td>\n",
       "      <td>Delhi Capitals</td>\n",
       "      <td>74.5</td>\n",
       "      <td>25.5</td>\n",
       "    </tr>\n",
       "    <tr>\n",
       "      <th>258269</th>\n",
       "      <td>6</td>\n",
       "      <td>10.0</td>\n",
       "      <td>0</td>\n",
       "      <td>Royal Challengers Bengaluru</td>\n",
       "      <td>Delhi Capitals</td>\n",
       "      <td>78.6</td>\n",
       "      <td>21.4</td>\n",
       "    </tr>\n",
       "    <tr>\n",
       "      <th>258275</th>\n",
       "      <td>7</td>\n",
       "      <td>15.0</td>\n",
       "      <td>0</td>\n",
       "      <td>Royal Challengers Bengaluru</td>\n",
       "      <td>Delhi Capitals</td>\n",
       "      <td>85.9</td>\n",
       "      <td>14.1</td>\n",
       "    </tr>\n",
       "    <tr>\n",
       "      <th>258281</th>\n",
       "      <td>8</td>\n",
       "      <td>11.0</td>\n",
       "      <td>0</td>\n",
       "      <td>Royal Challengers Bengaluru</td>\n",
       "      <td>Delhi Capitals</td>\n",
       "      <td>87.1</td>\n",
       "      <td>12.9</td>\n",
       "    </tr>\n",
       "    <tr>\n",
       "      <th>258288</th>\n",
       "      <td>9</td>\n",
       "      <td>12.0</td>\n",
       "      <td>0</td>\n",
       "      <td>Royal Challengers Bengaluru</td>\n",
       "      <td>Delhi Capitals</td>\n",
       "      <td>90.3</td>\n",
       "      <td>9.7</td>\n",
       "    </tr>\n",
       "    <tr>\n",
       "      <th>258294</th>\n",
       "      <td>10</td>\n",
       "      <td>11.0</td>\n",
       "      <td>0</td>\n",
       "      <td>Royal Challengers Bengaluru</td>\n",
       "      <td>Delhi Capitals</td>\n",
       "      <td>92.3</td>\n",
       "      <td>7.7</td>\n",
       "    </tr>\n",
       "    <tr>\n",
       "      <th>258301</th>\n",
       "      <td>11</td>\n",
       "      <td>8.0</td>\n",
       "      <td>0</td>\n",
       "      <td>Royal Challengers Bengaluru</td>\n",
       "      <td>Delhi Capitals</td>\n",
       "      <td>92.3</td>\n",
       "      <td>7.7</td>\n",
       "    </tr>\n",
       "    <tr>\n",
       "      <th>258307</th>\n",
       "      <td>12</td>\n",
       "      <td>3.0</td>\n",
       "      <td>0</td>\n",
       "      <td>Royal Challengers Bengaluru</td>\n",
       "      <td>Delhi Capitals</td>\n",
       "      <td>84.3</td>\n",
       "      <td>15.7</td>\n",
       "    </tr>\n",
       "    <tr>\n",
       "      <th>258314</th>\n",
       "      <td>13</td>\n",
       "      <td>10.0</td>\n",
       "      <td>1</td>\n",
       "      <td>Royal Challengers Bengaluru</td>\n",
       "      <td>Delhi Capitals</td>\n",
       "      <td>85.0</td>\n",
       "      <td>15.0</td>\n",
       "    </tr>\n",
       "    <tr>\n",
       "      <th>258320</th>\n",
       "      <td>14</td>\n",
       "      <td>3.0</td>\n",
       "      <td>0</td>\n",
       "      <td>Royal Challengers Bengaluru</td>\n",
       "      <td>Delhi Capitals</td>\n",
       "      <td>76.6</td>\n",
       "      <td>23.4</td>\n",
       "    </tr>\n",
       "    <tr>\n",
       "      <th>258326</th>\n",
       "      <td>15</td>\n",
       "      <td>4.0</td>\n",
       "      <td>1</td>\n",
       "      <td>Royal Challengers Bengaluru</td>\n",
       "      <td>Delhi Capitals</td>\n",
       "      <td>77.8</td>\n",
       "      <td>22.2</td>\n",
       "    </tr>\n",
       "    <tr>\n",
       "      <th>258334</th>\n",
       "      <td>16</td>\n",
       "      <td>9.0</td>\n",
       "      <td>0</td>\n",
       "      <td>Royal Challengers Bengaluru</td>\n",
       "      <td>Delhi Capitals</td>\n",
       "      <td>83.9</td>\n",
       "      <td>16.1</td>\n",
       "    </tr>\n",
       "    <tr>\n",
       "      <th>258340</th>\n",
       "      <td>17</td>\n",
       "      <td>22.0</td>\n",
       "      <td>0</td>\n",
       "      <td>Royal Challengers Bengaluru</td>\n",
       "      <td>Delhi Capitals</td>\n",
       "      <td>84.7</td>\n",
       "      <td>15.3</td>\n",
       "    </tr>\n",
       "    <tr>\n",
       "      <th>258346</th>\n",
       "      <td>18</td>\n",
       "      <td>5.0</td>\n",
       "      <td>2</td>\n",
       "      <td>Royal Challengers Bengaluru</td>\n",
       "      <td>Delhi Capitals</td>\n",
       "      <td>91.9</td>\n",
       "      <td>8.1</td>\n",
       "    </tr>\n",
       "    <tr>\n",
       "      <th>258353</th>\n",
       "      <td>19</td>\n",
       "      <td>5.0</td>\n",
       "      <td>1</td>\n",
       "      <td>Royal Challengers Bengaluru</td>\n",
       "      <td>Delhi Capitals</td>\n",
       "      <td>87.3</td>\n",
       "      <td>12.7</td>\n",
       "    </tr>\n",
       "    <tr>\n",
       "      <th>258365</th>\n",
       "      <td>20</td>\n",
       "      <td>9.0</td>\n",
       "      <td>1</td>\n",
       "      <td>Royal Challengers Bengaluru</td>\n",
       "      <td>Delhi Capitals</td>\n",
       "      <td>57.4</td>\n",
       "      <td>42.6</td>\n",
       "    </tr>\n",
       "    <tr>\n",
       "      <th>258371</th>\n",
       "      <td>21</td>\n",
       "      <td>15.0</td>\n",
       "      <td>0</td>\n",
       "      <td>Royal Challengers Bengaluru</td>\n",
       "      <td>Delhi Capitals</td>\n",
       "      <td>60.1</td>\n",
       "      <td>39.9</td>\n",
       "    </tr>\n",
       "    <tr>\n",
       "      <th>258377</th>\n",
       "      <td>22</td>\n",
       "      <td>4.0</td>\n",
       "      <td>2</td>\n",
       "      <td>Royal Challengers Bengaluru</td>\n",
       "      <td>Delhi Capitals</td>\n",
       "      <td>77.8</td>\n",
       "      <td>22.2</td>\n",
       "    </tr>\n",
       "    <tr>\n",
       "      <th>258383</th>\n",
       "      <td>23</td>\n",
       "      <td>2.0</td>\n",
       "      <td>1</td>\n",
       "      <td>Royal Challengers Bengaluru</td>\n",
       "      <td>Delhi Capitals</td>\n",
       "      <td>87.9</td>\n",
       "      <td>12.1</td>\n",
       "    </tr>\n",
       "    <tr>\n",
       "      <th>258389</th>\n",
       "      <td>24</td>\n",
       "      <td>13.0</td>\n",
       "      <td>0</td>\n",
       "      <td>Royal Challengers Bengaluru</td>\n",
       "      <td>Delhi Capitals</td>\n",
       "      <td>80.1</td>\n",
       "      <td>19.9</td>\n",
       "    </tr>\n",
       "    <tr>\n",
       "      <th>258395</th>\n",
       "      <td>25</td>\n",
       "      <td>11.0</td>\n",
       "      <td>0</td>\n",
       "      <td>Royal Challengers Bengaluru</td>\n",
       "      <td>Delhi Capitals</td>\n",
       "      <td>83.6</td>\n",
       "      <td>16.4</td>\n",
       "    </tr>\n",
       "    <tr>\n",
       "      <th>258401</th>\n",
       "      <td>26</td>\n",
       "      <td>9.0</td>\n",
       "      <td>0</td>\n",
       "      <td>Royal Challengers Bengaluru</td>\n",
       "      <td>Delhi Capitals</td>\n",
       "      <td>83.3</td>\n",
       "      <td>16.7</td>\n",
       "    </tr>\n",
       "    <tr>\n",
       "      <th>258407</th>\n",
       "      <td>27</td>\n",
       "      <td>8.0</td>\n",
       "      <td>0</td>\n",
       "      <td>Royal Challengers Bengaluru</td>\n",
       "      <td>Delhi Capitals</td>\n",
       "      <td>87.2</td>\n",
       "      <td>12.8</td>\n",
       "    </tr>\n",
       "    <tr>\n",
       "      <th>258414</th>\n",
       "      <td>28</td>\n",
       "      <td>10.0</td>\n",
       "      <td>0</td>\n",
       "      <td>Royal Challengers Bengaluru</td>\n",
       "      <td>Delhi Capitals</td>\n",
       "      <td>85.0</td>\n",
       "      <td>15.0</td>\n",
       "    </tr>\n",
       "    <tr>\n",
       "      <th>258420</th>\n",
       "      <td>29</td>\n",
       "      <td>6.0</td>\n",
       "      <td>1</td>\n",
       "      <td>Royal Challengers Bengaluru</td>\n",
       "      <td>Delhi Capitals</td>\n",
       "      <td>84.4</td>\n",
       "      <td>15.6</td>\n",
       "    </tr>\n",
       "    <tr>\n",
       "      <th>258426</th>\n",
       "      <td>30</td>\n",
       "      <td>3.0</td>\n",
       "      <td>1</td>\n",
       "      <td>Royal Challengers Bengaluru</td>\n",
       "      <td>Delhi Capitals</td>\n",
       "      <td>84.7</td>\n",
       "      <td>15.3</td>\n",
       "    </tr>\n",
       "    <tr>\n",
       "      <th>258432</th>\n",
       "      <td>31</td>\n",
       "      <td>10.0</td>\n",
       "      <td>0</td>\n",
       "      <td>Royal Challengers Bengaluru</td>\n",
       "      <td>Delhi Capitals</td>\n",
       "      <td>91.4</td>\n",
       "      <td>8.6</td>\n",
       "    </tr>\n",
       "    <tr>\n",
       "      <th>258438</th>\n",
       "      <td>32</td>\n",
       "      <td>16.0</td>\n",
       "      <td>0</td>\n",
       "      <td>Royal Challengers Bengaluru</td>\n",
       "      <td>Delhi Capitals</td>\n",
       "      <td>87.0</td>\n",
       "      <td>13.0</td>\n",
       "    </tr>\n",
       "    <tr>\n",
       "      <th>258444</th>\n",
       "      <td>33</td>\n",
       "      <td>8.0</td>\n",
       "      <td>0</td>\n",
       "      <td>Royal Challengers Bengaluru</td>\n",
       "      <td>Delhi Capitals</td>\n",
       "      <td>81.3</td>\n",
       "      <td>18.7</td>\n",
       "    </tr>\n",
       "    <tr>\n",
       "      <th>258450</th>\n",
       "      <td>34</td>\n",
       "      <td>3.0</td>\n",
       "      <td>1</td>\n",
       "      <td>Royal Challengers Bengaluru</td>\n",
       "      <td>Delhi Capitals</td>\n",
       "      <td>87.4</td>\n",
       "      <td>12.6</td>\n",
       "    </tr>\n",
       "    <tr>\n",
       "      <th>258457</th>\n",
       "      <td>35</td>\n",
       "      <td>3.0</td>\n",
       "      <td>1</td>\n",
       "      <td>Royal Challengers Bengaluru</td>\n",
       "      <td>Delhi Capitals</td>\n",
       "      <td>95.6</td>\n",
       "      <td>4.4</td>\n",
       "    </tr>\n",
       "    <tr>\n",
       "      <th>258464</th>\n",
       "      <td>36</td>\n",
       "      <td>3.0</td>\n",
       "      <td>0</td>\n",
       "      <td>Royal Challengers Bengaluru</td>\n",
       "      <td>Delhi Capitals</td>\n",
       "      <td>97.8</td>\n",
       "      <td>2.2</td>\n",
       "    </tr>\n",
       "    <tr>\n",
       "      <th>258470</th>\n",
       "      <td>37</td>\n",
       "      <td>2.0</td>\n",
       "      <td>1</td>\n",
       "      <td>Royal Challengers Bengaluru</td>\n",
       "      <td>Delhi Capitals</td>\n",
       "      <td>99.8</td>\n",
       "      <td>0.2</td>\n",
       "    </tr>\n",
       "    <tr>\n",
       "      <th>258478</th>\n",
       "      <td>38</td>\n",
       "      <td>5.0</td>\n",
       "      <td>0</td>\n",
       "      <td>Royal Challengers Bengaluru</td>\n",
       "      <td>Delhi Capitals</td>\n",
       "      <td>100.0</td>\n",
       "      <td>0.0</td>\n",
       "    </tr>\n",
       "  </tbody>\n",
       "</table>\n",
       "</div>"
      ],
      "text/plain": [
       "        end_of_over  runs_in_over  wickets_in_over  \\\n",
       "258238            1          10.0                0   \n",
       "258244            2          13.0                0   \n",
       "258250            3           2.0                1   \n",
       "258257            4          12.0                1   \n",
       "258263            5          14.0                0   \n",
       "258269            6          10.0                0   \n",
       "258275            7          15.0                0   \n",
       "258281            8          11.0                0   \n",
       "258288            9          12.0                0   \n",
       "258294           10          11.0                0   \n",
       "258301           11           8.0                0   \n",
       "258307           12           3.0                0   \n",
       "258314           13          10.0                1   \n",
       "258320           14           3.0                0   \n",
       "258326           15           4.0                1   \n",
       "258334           16           9.0                0   \n",
       "258340           17          22.0                0   \n",
       "258346           18           5.0                2   \n",
       "258353           19           5.0                1   \n",
       "258365           20           9.0                1   \n",
       "258371           21          15.0                0   \n",
       "258377           22           4.0                2   \n",
       "258383           23           2.0                1   \n",
       "258389           24          13.0                0   \n",
       "258395           25          11.0                0   \n",
       "258401           26           9.0                0   \n",
       "258407           27           8.0                0   \n",
       "258414           28          10.0                0   \n",
       "258420           29           6.0                1   \n",
       "258426           30           3.0                1   \n",
       "258432           31          10.0                0   \n",
       "258438           32          16.0                0   \n",
       "258444           33           8.0                0   \n",
       "258450           34           3.0                1   \n",
       "258457           35           3.0                1   \n",
       "258464           36           3.0                0   \n",
       "258470           37           2.0                1   \n",
       "258478           38           5.0                0   \n",
       "\n",
       "                              team1           team2  team1_win  team2_win  \n",
       "258238  Royal Challengers Bengaluru  Delhi Capitals       68.8       31.2  \n",
       "258244  Royal Challengers Bengaluru  Delhi Capitals       55.4       44.6  \n",
       "258250  Royal Challengers Bengaluru  Delhi Capitals       57.4       42.6  \n",
       "258257  Royal Challengers Bengaluru  Delhi Capitals       58.5       41.5  \n",
       "258263  Royal Challengers Bengaluru  Delhi Capitals       74.5       25.5  \n",
       "258269  Royal Challengers Bengaluru  Delhi Capitals       78.6       21.4  \n",
       "258275  Royal Challengers Bengaluru  Delhi Capitals       85.9       14.1  \n",
       "258281  Royal Challengers Bengaluru  Delhi Capitals       87.1       12.9  \n",
       "258288  Royal Challengers Bengaluru  Delhi Capitals       90.3        9.7  \n",
       "258294  Royal Challengers Bengaluru  Delhi Capitals       92.3        7.7  \n",
       "258301  Royal Challengers Bengaluru  Delhi Capitals       92.3        7.7  \n",
       "258307  Royal Challengers Bengaluru  Delhi Capitals       84.3       15.7  \n",
       "258314  Royal Challengers Bengaluru  Delhi Capitals       85.0       15.0  \n",
       "258320  Royal Challengers Bengaluru  Delhi Capitals       76.6       23.4  \n",
       "258326  Royal Challengers Bengaluru  Delhi Capitals       77.8       22.2  \n",
       "258334  Royal Challengers Bengaluru  Delhi Capitals       83.9       16.1  \n",
       "258340  Royal Challengers Bengaluru  Delhi Capitals       84.7       15.3  \n",
       "258346  Royal Challengers Bengaluru  Delhi Capitals       91.9        8.1  \n",
       "258353  Royal Challengers Bengaluru  Delhi Capitals       87.3       12.7  \n",
       "258365  Royal Challengers Bengaluru  Delhi Capitals       57.4       42.6  \n",
       "258371  Royal Challengers Bengaluru  Delhi Capitals       60.1       39.9  \n",
       "258377  Royal Challengers Bengaluru  Delhi Capitals       77.8       22.2  \n",
       "258383  Royal Challengers Bengaluru  Delhi Capitals       87.9       12.1  \n",
       "258389  Royal Challengers Bengaluru  Delhi Capitals       80.1       19.9  \n",
       "258395  Royal Challengers Bengaluru  Delhi Capitals       83.6       16.4  \n",
       "258401  Royal Challengers Bengaluru  Delhi Capitals       83.3       16.7  \n",
       "258407  Royal Challengers Bengaluru  Delhi Capitals       87.2       12.8  \n",
       "258414  Royal Challengers Bengaluru  Delhi Capitals       85.0       15.0  \n",
       "258420  Royal Challengers Bengaluru  Delhi Capitals       84.4       15.6  \n",
       "258426  Royal Challengers Bengaluru  Delhi Capitals       84.7       15.3  \n",
       "258432  Royal Challengers Bengaluru  Delhi Capitals       91.4        8.6  \n",
       "258438  Royal Challengers Bengaluru  Delhi Capitals       87.0       13.0  \n",
       "258444  Royal Challengers Bengaluru  Delhi Capitals       81.3       18.7  \n",
       "258450  Royal Challengers Bengaluru  Delhi Capitals       87.4       12.6  \n",
       "258457  Royal Challengers Bengaluru  Delhi Capitals       95.6        4.4  \n",
       "258464  Royal Challengers Bengaluru  Delhi Capitals       97.8        2.2  \n",
       "258470  Royal Challengers Bengaluru  Delhi Capitals       99.8        0.2  \n",
       "258478  Royal Challengers Bengaluru  Delhi Capitals      100.0        0.0  "
      ]
     },
     "execution_count": 47,
     "metadata": {},
     "output_type": "execute_result"
    }
   ],
   "source": [
    "match_df,target,team1,team2 = match_progression(df_merge,1426300,pipeline)\n",
    "match_df"
   ]
  },
  {
   "cell_type": "code",
   "execution_count": 48,
   "id": "fcfca2ea",
   "metadata": {
    "execution": {
     "iopub.execute_input": "2025-08-10T15:33:45.175694Z",
     "iopub.status.busy": "2025-08-10T15:33:45.175399Z",
     "iopub.status.idle": "2025-08-10T15:33:45.180219Z",
     "shell.execute_reply": "2025-08-10T15:33:45.179198Z"
    },
    "papermill": {
     "duration": 0.021321,
     "end_time": "2025-08-10T15:33:45.181883",
     "exception": false,
     "start_time": "2025-08-10T15:33:45.160562",
     "status": "completed"
    },
    "tags": []
   },
   "outputs": [],
   "source": [
    "team1 = ''.join([w[0].upper() for w in team1.split()])\n",
    "team2 = ''.join([w[0].upper() for w in team2.split()])"
   ]
  },
  {
   "cell_type": "code",
   "execution_count": 49,
   "id": "c619d090",
   "metadata": {
    "execution": {
     "iopub.execute_input": "2025-08-10T15:33:45.211372Z",
     "iopub.status.busy": "2025-08-10T15:33:45.211091Z",
     "iopub.status.idle": "2025-08-10T15:33:45.451227Z",
     "shell.execute_reply": "2025-08-10T15:33:45.450227Z"
    },
    "papermill": {
     "duration": 0.257286,
     "end_time": "2025-08-10T15:33:45.453394",
     "exception": false,
     "start_time": "2025-08-10T15:33:45.196108",
     "status": "completed"
    },
    "tags": []
   },
   "outputs": [
    {
     "data": {
      "image/png": "[encoded data removed]",
      "text/plain": [
       "<Figure size 1000x600 with 1 Axes>"
      ]
     },
     "metadata": {},
     "output_type": "display_data"
    }
   ],
   "source": [
    "# Plot Win Probability line\n",
    "plt.figure(figsize=(10,6))\n",
    "plt.plot(match_df['end_of_over'], match_df['team1_win'], color='orange', marker='o', label=f'{team1} Win Probability')\n",
    "\n",
    "# Team 2 win probability\n",
    "plt.plot(match_df['end_of_over'], match_df['team2_win'], color='blue', marker='o', label=f'{team2} Win Probability')\n",
    "\n",
    "# Add 50% line\n",
    "plt.axhline(50, color='gray', linestyle='--', linewidth=0.7)\n",
    "\n",
    "# Mark innings break\n",
    "plt.axvline(19, color='black', linestyle='--', linewidth=1)\n",
    "plt.text(15, 102, f\"{team1} Innings\", ha='center', fontsize=9, fontweight='bold')\n",
    "plt.text(30, 102, f\"{team2} Innings\", ha='center', fontsize=9, fontweight='bold')\n",
    "\n",
    "plt.xlabel(\"End of Over\")\n",
    "plt.ylabel(\"Win Probability (%)\")\n",
    "plt.title(\"Win Probability Chart\")\n",
    "plt.legend()\n",
    "plt.grid(alpha=0.3)\n",
    "plt.show()"
   ]
  },
  {
   "cell_type": "code",
   "execution_count": 50,
   "id": "427ba7a4",
   "metadata": {
    "execution": {
     "iopub.execute_input": "2025-08-10T15:33:45.486488Z",
     "iopub.status.busy": "2025-08-10T15:33:45.486201Z",
     "iopub.status.idle": "2025-08-10T15:33:45.490459Z",
     "shell.execute_reply": "2025-08-10T15:33:45.489248Z"
    },
    "papermill": {
     "duration": 0.022764,
     "end_time": "2025-08-10T15:33:45.492123",
     "exception": false,
     "start_time": "2025-08-10T15:33:45.469359",
     "status": "completed"
    },
    "tags": []
   },
   "outputs": [],
   "source": [
    "# import pickle\n",
    "# pickle.dump(pipeline,open('pipe.pkl','wb'))"
   ]
  }
 ],
 "metadata": {
  "kaggle": {
   "accelerator": "none",
   "dataSources": [
    {
     "datasetId": 990900,
     "sourceId": 8637500,
     "sourceType": "datasetVersion"
    }
   ],
   "dockerImageVersionId": 31089,
   "isGpuEnabled": false,
   "isInternetEnabled": true,
   "language": "python",
   "sourceType": "notebook"
  },
  "kernelspec": {
   "display_name": "Python 3",
   "language": "python",
   "name": "python3"
  },
  "language_info": {
   "codemirror_mode": {
    "name": "ipython",
    "version": 3
   },
   "file_extension": ".py",
   "mimetype": "text/x-python",
   "name": "python",
   "nbconvert_exporter": "python",
   "pygments_lexer": "ipython3",
   "version": "3.12.0"
  },
  "papermill": {
   "default_parameters": {},
   "duration": 228.287404,
   "end_time": "2025-08-10T15:33:46.328744",
   "environment_variables": {},
   "exception": null,
   "input_path": "__notebook__.ipynb",
   "output_path": "__notebook__.ipynb",
   "parameters": {},
   "start_time": "2025-08-10T15:29:58.041340",
   "version": "2.6.0"
  }
 },
 "nbformat": 4,
 "nbformat_minor": 5
}
