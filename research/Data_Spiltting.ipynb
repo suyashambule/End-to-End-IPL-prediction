{
 "cells": [
  {
   "cell_type": "code",
   "execution_count": 26,
   "id": "f71061eb",
   "metadata": {},
   "outputs": [],
   "source": [
    "import os"
   ]
  },
  {
   "cell_type": "code",
   "execution_count": null,
   "id": "29822f39",
   "metadata": {},
   "outputs": [],
   "source": []
  },
  {
   "cell_type": "code",
   "execution_count": 27,
   "id": "010587d3",
   "metadata": {},
   "outputs": [
    {
     "data": {
      "text/plain": [
       "'/Users/suyash/Desktop/End to End'"
      ]
     },
     "execution_count": 27,
     "metadata": {},
     "output_type": "execute_result"
    }
   ],
   "source": [
    "%pwd"
   ]
  },
  {
   "cell_type": "code",
   "execution_count": 4,
   "id": "08b92b0b",
   "metadata": {},
   "outputs": [
    {
     "data": {
      "text/plain": [
       "'/Users/suyash/Desktop/End to End'"
      ]
     },
     "execution_count": 4,
     "metadata": {},
     "output_type": "execute_result"
    }
   ],
   "source": [
    "os.chdir('../')\n",
    "%pwd"
   ]
  },
  {
   "cell_type": "code",
   "execution_count": 28,
   "id": "b4af2433",
   "metadata": {},
   "outputs": [],
   "source": [
    "import pandas as pd"
   ]
  },
  {
   "cell_type": "code",
   "execution_count": 29,
   "id": "3594562b",
   "metadata": {},
   "outputs": [],
   "source": [
    "from dataclasses import dataclass\n",
    "from pathlib import Path    \n",
    "\n",
    "\n",
    "@dataclass\n",
    "class DataSplitterConfig:  \n",
    "    root_dir: Path\n",
    "    train_data: Path\n",
    "    test_data: Path\n",
    "    split_ratio: float\n",
    "    random_state: int\n",
    "    unzip_data_dir: Path \n",
    "    categorical_columns: list  # Updated name to match schema\n",
    "    numerical_columns: list   # Updated name to match schema"
   ]
  },
  {
   "cell_type": "code",
   "execution_count": 30,
   "id": "c5ce1b95",
   "metadata": {},
   "outputs": [],
   "source": [
    "from src.IPL_Predictor.constants import *\n",
    "from src.IPL_Predictor.utils.common import read_yaml, create_directories\n",
    "from src.IPL_Predictor import logger"
   ]
  },
  {
   "cell_type": "code",
   "execution_count": 31,
   "id": "cd6796d0",
   "metadata": {},
   "outputs": [],
   "source": [
    "class ConfigurationManager:\n",
    "    def __init__(\n",
    "        self,\n",
    "        config_filepath = CONFIG_FILE_PATH,\n",
    "        params_filepath = PARAMS_FILE_PATH,\n",
    "        schema_filepath = SCHEMA_FILE_PATH):\n",
    "\n",
    "        self.config = read_yaml(config_filepath)\n",
    "        self.params = read_yaml(params_filepath)\n",
    "        self.schema = read_yaml(schema_filepath)\n",
    "\n",
    "        create_directories([self.config.artifacts_root])\n",
    "\n",
    "\n",
    "    def get_data_split_config(self) -> DataSplitterConfig:\n",
    "        config = self.config.data_splitter\n",
    "        create_directories([config.root_dir])\n",
    "\n",
    "        data_splitter_config = DataSplitterConfig(\n",
    "            root_dir=config.root_dir,\n",
    "            train_data=config.train_data,\n",
    "            test_data=config.test_data,\n",
    "            split_ratio=config.split_ratio,\n",
    "            random_state=config.random_state,\n",
    "            unzip_data_dir=config.unzip_data_dir,\n",
    "            categorical_columns=self.schema['Categorial_COLUMNS'],  # Match schema name\n",
    "            numerical_columns=self.schema['Numerical_COLUMNS']      # Match schema name\n",
    "        )\n",
    "        return data_splitter_config"
   ]
  },
  {
   "cell_type": "code",
   "execution_count": 32,
   "id": "7692b5c3",
   "metadata": {},
   "outputs": [],
   "source": [
    "import pandas as pd\n",
    "from sklearn.model_selection import train_test_split\n",
    "from sklearn.ensemble import RandomForestClassifier\n",
    "import joblib\n",
    "from sklearn.pipeline import Pipeline\n",
    "from sklearn.compose import ColumnTransformer\n",
    "from sklearn.preprocessing import OneHotEncoder, StandardScaler\n",
    "import pandas as pd\n"
   ]
  },
  {
   "cell_type": "code",
   "execution_count": 33,
   "id": "c8c04a17",
   "metadata": {},
   "outputs": [],
   "source": [
    "class Data_Splitting:\n",
    "    def __init__(self, config: DataSplitterConfig, schema=None):\n",
    "        self.config = config\n",
    "        self.schema = schema\n",
    "\n",
    "    def split_data(self):\n",
    "        try:\n",
    "            # Read the data\n",
    "            df = pd.read_csv(self.config.unzip_data_dir)\n",
    "            logger.info(f\"Read data with shape: {df.shape}\")\n",
    "            \n",
    "            # Save target column before preprocessing\n",
    "            target = df[self.schema.TARGET_COLUMN]\n",
    "            \n",
    "            # Split data first\n",
    "            train_set, test_set = train_test_split(\n",
    "                df, \n",
    "                test_size=self.config.split_ratio, \n",
    "                random_state=self.config.random_state,\n",
    "                stratify=target\n",
    "            )\n",
    "            \n",
    "            # Save target columns separately\n",
    "            train_target = train_set[self.schema.TARGET_COLUMN]\n",
    "            test_target = test_set[self.schema.TARGET_COLUMN]\n",
    "            \n",
    "            # Create and fit preprocessor for features only\n",
    "            preprocessor = ColumnTransformer(\n",
    "                transformers=[\n",
    "                    (\"num\", StandardScaler(), self.config.numerical_columns),\n",
    "                    (\"cat\", OneHotEncoder(drop='first', sparse_output=False), self.config.categorical_columns)\n",
    "                ],\n",
    "                remainder='drop'\n",
    "            )\n",
    "            \n",
    "            # Process features\n",
    "            train_processed = preprocessor.fit_transform(train_set[self.config.numerical_columns + self.config.categorical_columns])\n",
    "            test_processed = preprocessor.transform(test_set[self.config.numerical_columns + self.config.categorical_columns])\n",
    "            \n",
    "            # Get feature names\n",
    "            num_features = self.config.numerical_columns\n",
    "            cat_features = []\n",
    "            for i, col in enumerate(self.config.categorical_columns):\n",
    "                categories = preprocessor.named_transformers_['cat'].categories_[i][1:]\n",
    "                cat_features.extend([f\"{col}_{cat}\" for cat in categories])\n",
    "            \n",
    "            # Create DataFrames with proper column names\n",
    "            train_df = pd.DataFrame(\n",
    "                train_processed,\n",
    "                columns=num_features + cat_features\n",
    "            )\n",
    "            test_df = pd.DataFrame(\n",
    "                test_processed,\n",
    "                columns=num_features + cat_features\n",
    "            )\n",
    "            \n",
    "            # Add target column back\n",
    "            train_df[self.schema.TARGET_COLUMN] = train_target.values\n",
    "            test_df[self.schema.TARGET_COLUMN] = test_target.values\n",
    "            \n",
    "            # Save preprocessed data\n",
    "            os.makedirs(os.path.dirname(self.config.train_data), exist_ok=True)\n",
    "            train_df.to_csv(self.config.train_data, index=False)\n",
    "            test_df.to_csv(self.config.test_data, index=False)\n",
    "            \n",
    "            logger.info(f\"Preprocessed data saved to {self.config.root_dir}\")\n",
    "            logger.info(f\"Processed train shape: {train_df.shape}, Processed test shape: {test_df.shape}\")\n",
    "            \n",
    "            return train_df, test_df\n",
    "            \n",
    "        except Exception as e:\n",
    "            logger.error(f\"Error in data splitting: {str(e)}\")\n",
    "            raise e"
   ]
  },
  {
   "cell_type": "code",
   "execution_count": 34,
   "id": "6705b2ea",
   "metadata": {},
   "outputs": [
    {
     "name": "stdout",
     "output_type": "stream",
     "text": [
      "[2025-09-24 01:02:24,215: INFO: common: yaml file: config/config.yaml loaded successfully]\n",
      "[2025-09-24 01:02:24,216: INFO: common: yaml file: params.yaml loaded successfully]\n",
      "[2025-09-24 01:02:24,217: INFO: common: yaml file: schema.yaml loaded successfully]\n",
      "[2025-09-24 01:02:24,218: INFO: common: created directory at : artifacts]\n",
      "[2025-09-24 01:02:24,218: INFO: common: created directory at : artifacts/data_splitting]\n",
      "[2025-09-24 01:02:24,376: INFO: 1287289255: Read data with shape: (250331, 14)]\n",
      "[2025-09-24 01:02:29,570: INFO: 1287289255: Preprocessed data saved to artifacts/data_splitting]\n",
      "[2025-09-24 01:02:29,572: INFO: 1287289255: Processed train shape: (200264, 71), Processed test shape: (50067, 71)]\n"
     ]
    }
   ],
   "source": [
    "try:\n",
    "    config = ConfigurationManager()\n",
    "    data_split_config = config.get_data_split_config()\n",
    "    data_splitter = Data_Splitting(\n",
    "        config=data_split_config,\n",
    "        schema=config.schema  # Pass the schema from ConfigurationManager\n",
    "    )\n",
    "    data_splitter.split_data()\n",
    "except Exception as e:\n",
    "    logger.exception(e)\n",
    "    raise e"
   ]
  },
  {
   "cell_type": "code",
   "execution_count": null,
   "id": "a1582026",
   "metadata": {},
   "outputs": [],
   "source": []
  },
  {
   "cell_type": "code",
   "execution_count": null,
   "id": "fda80672",
   "metadata": {},
   "outputs": [],
   "source": []
  }
 ],
 "metadata": {
  "kernelspec": {
   "display_name": "Python 3",
   "language": "python",
   "name": "python3"
  },
  "language_info": {
   "codemirror_mode": {
    "name": "ipython",
    "version": 3
   },
   "file_extension": ".py",
   "mimetype": "text/x-python",
   "name": "python",
   "nbconvert_exporter": "python",
   "pygments_lexer": "ipython3",
   "version": "3.12.0"
  }
 },
 "nbformat": 4,
 "nbformat_minor": 5
}
