{
 "cells": [
  {
   "cell_type": "code",
   "execution_count": 2,
   "id": "f71061eb",
   "metadata": {},
   "outputs": [],
   "source": [
    "import os"
   ]
  },
  {
   "cell_type": "code",
   "execution_count": 3,
   "id": "010587d3",
   "metadata": {},
   "outputs": [
    {
     "data": {
      "text/plain": [
       "'/Users/suyash/Desktop/End to End/research'"
      ]
     },
     "execution_count": 3,
     "metadata": {},
     "output_type": "execute_result"
    }
   ],
   "source": [
    "%pwd"
   ]
  },
  {
   "cell_type": "code",
   "execution_count": 4,
   "id": "08b92b0b",
   "metadata": {},
   "outputs": [],
   "source": [
    "os.chdir('../')"
   ]
  },
  {
   "cell_type": "code",
   "execution_count": 5,
   "id": "b4af2433",
   "metadata": {},
   "outputs": [],
   "source": [
    "import pandas as pd"
   ]
  },
  {
   "cell_type": "code",
   "execution_count": 25,
   "id": "3594562b",
   "metadata": {},
   "outputs": [],
   "source": [
    "from dataclasses import dataclass\n",
    "from pathlib import Path    \n",
    "\n",
    "\n",
    "@dataclass\n",
    "class DataSplitterConfig:  \n",
    "    root_dir: Path\n",
    "    train_data: Path\n",
    "    test_data: Path\n",
    "    split_ratio: float\n",
    "    random_state: int\n",
    "    unzip_data_dir: Path \n",
    "    categorical_columns: list  # Updated name to match schema\n",
    "    numerical_columns: list   # Updated name to match schema"
   ]
  },
  {
   "cell_type": "code",
   "execution_count": 20,
   "id": "c5ce1b95",
   "metadata": {},
   "outputs": [],
   "source": [
    "from src.IPL_Predictor.constants import *\n",
    "from src.IPL_Predictor.utils.common import read_yaml, create_directories\n",
    "from src.IPL_Predictor import logger"
   ]
  },
  {
   "cell_type": "code",
   "execution_count": 26,
   "id": "cd6796d0",
   "metadata": {},
   "outputs": [],
   "source": [
    "class ConfigurationManager:\n",
    "    def __init__(\n",
    "        self,\n",
    "        config_filepath = CONFIG_FILE_PATH,\n",
    "        params_filepath = PARAMS_FILE_PATH,\n",
    "        schema_filepath = SCHEMA_FILE_PATH):\n",
    "\n",
    "        self.config = read_yaml(config_filepath)\n",
    "        self.params = read_yaml(params_filepath)\n",
    "        self.schema = read_yaml(schema_filepath)\n",
    "\n",
    "        create_directories([self.config.artifacts_root])\n",
    "\n",
    "\n",
    "    def get_data_split_config(self) -> DataSplitterConfig:\n",
    "        config = self.config.data_splitter\n",
    "        create_directories([config.root_dir])\n",
    "\n",
    "        data_splitter_config = DataSplitterConfig(\n",
    "            root_dir=config.root_dir,\n",
    "            train_data=config.train_data,\n",
    "            test_data=config.test_data,\n",
    "            split_ratio=config.split_ratio,\n",
    "            random_state=config.random_state,\n",
    "            unzip_data_dir=config.unzip_data_dir,\n",
    "            categorical_columns=self.schema['Categorial_COLUMNS'],  # Match schema name\n",
    "            numerical_columns=self.schema['Numerical_COLUMNS']      # Match schema name\n",
    "        )\n",
    "        return data_splitter_config"
   ]
  },
  {
   "cell_type": "code",
   "execution_count": 27,
   "id": "7692b5c3",
   "metadata": {},
   "outputs": [],
   "source": [
    "import pandas as pd\n",
    "from sklearn.model_selection import train_test_split\n",
    "from sklearn.ensemble import RandomForestClassifier\n",
    "import joblib\n",
    "from sklearn.pipeline import Pipeline\n",
    "from sklearn.compose import ColumnTransformer\n",
    "from sklearn.preprocessing import OneHotEncoder, StandardScaler\n",
    "import pandas as pd\n"
   ]
  },
  {
   "cell_type": "code",
   "execution_count": 28,
   "id": "c8c04a17",
   "metadata": {},
   "outputs": [],
   "source": [
    "class Data_Splitting:\n",
    "    def __init__(self, config: DataSplitterConfig):\n",
    "        self.config = config\n",
    "\n",
    "    def split_data(self):\n",
    "        df = pd.read_csv(self.config.unzip_data_dir)\n",
    "        \n",
    "        # Updated column references\n",
    "        preprocessor = ColumnTransformer([\n",
    "            (\"num\", StandardScaler(), self.config.numerical_columns),\n",
    "            (\"cat\", OneHotEncoder(handle_unknown='ignore'), self.config.categorical_columns)\n",
    "        ])\n",
    "        \n",
    "        # Split data\n",
    "        train_set, test_set = train_test_split(\n",
    "            df, \n",
    "            test_size=self.config.split_ratio, \n",
    "            random_state=self.config.random_state\n",
    "        )\n",
    "        \n",
    "        # Save splits\n",
    "        train_set.to_csv(self.config.train_data, index=False)\n",
    "        test_set.to_csv(self.config.test_data, index=False)\n",
    "        \n",
    "        logger.info(f\"Train and Test data saved in {self.config.root_dir}\")\n",
    "        logger.info(f\"Train data shape: {train_set.shape} and Test data shape: {test_set.shape}\")"
   ]
  },
  {
   "cell_type": "code",
   "execution_count": 29,
   "id": "6705b2ea",
   "metadata": {},
   "outputs": [
    {
     "name": "stdout",
     "output_type": "stream",
     "text": [
      "[2025-09-24 00:46:54,925: INFO: common: yaml file: config/config.yaml loaded successfully]\n",
      "[2025-09-24 00:46:54,926: INFO: common: yaml file: params.yaml loaded successfully]\n",
      "[2025-09-24 00:46:54,928: INFO: common: yaml file: schema.yaml loaded successfully]\n",
      "[2025-09-24 00:46:54,928: INFO: common: created directory at : artifacts]\n",
      "[2025-09-24 00:46:54,928: INFO: common: created directory at : artifacts/data_splitting]\n",
      "[2025-09-24 00:46:55,764: INFO: 1632313070: Train and Test data saved in artifacts/data_splitting]\n",
      "[2025-09-24 00:46:55,765: INFO: 1632313070: Train data shape: (200264, 14) and Test data shape: (50067, 14)]\n"
     ]
    }
   ],
   "source": [
    "try:\n",
    "    config = ConfigurationManager()\n",
    "    data_split_config = config.get_data_split_config()  # Fixed variable name\n",
    "    data_splitter = Data_Splitting(config=data_split_config)  # Fixed variable name\n",
    "    data_splitter.split_data()\n",
    "except Exception as e:\n",
    "    logger.exception(e)\n",
    "    raise e"
   ]
  },
  {
   "cell_type": "code",
   "execution_count": null,
   "id": "a1582026",
   "metadata": {},
   "outputs": [],
   "source": []
  }
 ],
 "metadata": {
  "kernelspec": {
   "display_name": "Python 3",
   "language": "python",
   "name": "python3"
  },
  "language_info": {
   "codemirror_mode": {
    "name": "ipython",
    "version": 3
   },
   "file_extension": ".py",
   "mimetype": "text/x-python",
   "name": "python",
   "nbconvert_exporter": "python",
   "pygments_lexer": "ipython3",
   "version": "3.12.0"
  }
 },
 "nbformat": 4,
 "nbformat_minor": 5
}
